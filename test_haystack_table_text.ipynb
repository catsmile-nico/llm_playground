{
 "cells": [
  {
   "cell_type": "code",
   "execution_count": 1,
   "metadata": {},
   "outputs": [],
   "source": [
    "import logging\n",
    "\n",
    "logging.basicConfig(format=\"%(levelname)s - %(name)s -  %(message)s\", level=logging.WARNING)\n",
    "logging.getLogger(\"haystack\").setLevel(logging.INFO)"
   ]
  },
  {
   "cell_type": "markdown",
   "metadata": {},
   "source": [
    "# Install Elasticsearch"
   ]
  },
  {
   "cell_type": "code",
   "execution_count": null,
   "metadata": {},
   "outputs": [],
   "source": [
    "## ADD GPG and package source\n",
    "# wget -qO - https://artifacts.elastic.co/GPG-KEY-elasticsearch | sudo apt-key add -\n",
    "# echo \"deb https://artifacts.elastic.co/packages/7.x/apt stable main\" | sudo tee /etc/apt/sources.list.d/elastic-7.x.list\n",
    "\n",
    "## INSTALL\n",
    "# sudo apt-get update && sudo apt-get install elasticsearch\n",
    "\n",
    "## INIT\n",
    "# sudo update-rc.d elasticsearch defaults 95 10\n",
    "# sudo -i service elasticsearch start\n",
    "# sudo -i service elasticsearch stop\n",
    "\n",
    "## CHECK\n",
    "# curl http://localhost:9200/"
   ]
  },
  {
   "cell_type": "code",
   "execution_count": 8,
   "metadata": {},
   "outputs": [],
   "source": [
    "import pandas as pd\n",
    "import os, json\n",
    "\n",
    "from haystack.document_stores import ElasticsearchDocumentStore\n",
    "from haystack.utils import fetch_archive_from_http, print_answers\n",
    "from haystack import Document\n",
    "\n",
    "from haystack.nodes.retriever import EmbeddingRetriever\n",
    "from haystack.nodes import TableReader"
   ]
  },
  {
   "cell_type": "code",
   "execution_count": 3,
   "metadata": {},
   "outputs": [
    {
     "name": "stderr",
     "output_type": "stream",
     "text": [
      "/home/catsmile/miniconda3/envs/py310/lib/python3.10/site-packages/elasticsearch/connection/base.py:200: ElasticsearchWarning: Elasticsearch built-in security features are not enabled. Without authentication, your cluster could be accessible to anyone. See https://www.elastic.co/guide/en/elasticsearch/reference/7.17/security-minimal-setup.html to enable security.\n",
      "  warnings.warn(message, category=ElasticsearchWarning)\n"
     ]
    }
   ],
   "source": [
    "# Get the host where Elasticsearch is running, default to localhost\n",
    "host = os.environ.get(\"ELASTICSEARCH_HOST\", \"localhost\")\n",
    "\n",
    "document_index = \"document\"\n",
    "document_store = ElasticsearchDocumentStore( host=host, index=document_index )"
   ]
  },
  {
   "cell_type": "code",
   "execution_count": 4,
   "metadata": {},
   "outputs": [
    {
     "name": "stderr",
     "output_type": "stream",
     "text": [
      "INFO - haystack.utils.import_utils -  Found data stored in 'data/tutorial15'. Delete this first if you really want to fetch new data.\n"
     ]
    },
    {
     "data": {
      "text/plain": [
       "False"
      ]
     },
     "execution_count": 4,
     "metadata": {},
     "output_type": "execute_result"
    }
   ],
   "source": [
    "doc_dir = \"data/tutorial15\"\n",
    "s3_url = \"https://s3.eu-central-1.amazonaws.com/deepset.ai-farm-qa/datasets/documents/table_text_dataset.zip\"\n",
    "fetch_archive_from_http(url=s3_url, output_dir=doc_dir)"
   ]
  },
  {
   "cell_type": "code",
   "execution_count": 5,
   "metadata": {},
   "outputs": [
    {
     "name": "stdout",
     "output_type": "stream",
     "text": [
      "                Opponent    M    W    L  T  NR   Win% First  Last\n",
      "0            Afghanistan    2    2    0  0   0  100.0  2012  2014\n",
      "1              Australia   98   32   62  1   3  34.21  1975  2017\n",
      "2             Bangladesh   35   31    4  0   0  88.57  1986  2015\n",
      "3                 Canada    2    2    0  0   0  100.0  1979  2011\n",
      "4                England   82   31   49  0   2  38.75  1974  2017\n",
      "5              Hong Kong    2    2    0  0   0  100.0  2004  2008\n",
      "6                  India  129   73   52  0   4   58.4  1978  2017\n",
      "7                Ireland    7    5    1  1   0  78.57  2007  2016\n",
      "8                  Kenya    6    6    0  0   0  100.0  1996  2011\n",
      "9                Namibia    1    1    0  0   0  100.0  2003  2003\n",
      "10           Netherlands    3    3    0  0   0  100.0  1996  2003\n",
      "11           New Zealand  103   53   47  1   2  52.97  1973  2018\n",
      "12              Scotland    3    3    0  0   0  100.0  1999  2013\n",
      "13          South Africa   73   25   47  0   1  34.72  1992  2017\n",
      "14             Sri Lanka  153   90   58  1   4  60.73  1975  2017\n",
      "15  United Arab Emirates    3    3    0  0   0  100.0  1994  2015\n",
      "16           West Indies  133   60   70  3   0  46.24  1975  2017\n",
      "17              Zimbabwe   59   52    4  1   2   92.1  1992  2018\n",
      "18             Total[12]  894  474  394  8  18  54.56  1973  2018\n",
      "==================================================\n",
      "{}\n"
     ]
    }
   ],
   "source": [
    "def read_json_to_tables(filename):\n",
    "    processed_tables = []\n",
    "    with open(filename) as tables:\n",
    "        tables = json.load(tables)\n",
    "        for key, table in tables.items():\n",
    "            current_columns = table[\"header\"]\n",
    "            current_rows = table[\"data\"]\n",
    "            current_df = pd.DataFrame(columns=current_columns, data=current_rows)\n",
    "            document = Document(content=current_df, content_type=\"table\", id=key)\n",
    "            processed_tables.append(document)\n",
    "\n",
    "    return processed_tables\n",
    "\n",
    "tables = read_json_to_tables(f\"{doc_dir}/tables.json\")\n",
    "document_store.write_documents(tables, index=document_index)\n",
    "\n",
    "# Showing content field and meta field of one of the Documents of content_type 'table'\n",
    "print(tables[0].content)\n",
    "print(\"=\"*50)\n",
    "print(tables[0].meta)\n"
   ]
  },
  {
   "cell_type": "code",
   "execution_count": 6,
   "metadata": {},
   "outputs": [
    {
     "name": "stderr",
     "output_type": "stream",
     "text": [
      "INFO - haystack.modeling.utils -  Using devices: CUDA:0 - Number of GPUs: 1\n"
     ]
    },
    {
     "name": "stderr",
     "output_type": "stream",
     "text": [
      "INFO - haystack.nodes.retriever.dense -  Init retriever using embeddings of model deepset/all-mpnet-base-v2-table\n",
      "/home/catsmile/miniconda3/envs/py310/lib/python3.10/site-packages/torch/_utils.py:776: UserWarning: TypedStorage is deprecated. It will be removed in the future and UntypedStorage will be the only storage class. This should only matter to you if you are using storages directly.  To access UntypedStorage directly, use tensor.untyped_storage() instead of tensor.storage()\n",
      "  return self.fget.__get__(instance, owner)()\n",
      "/home/catsmile/miniconda3/envs/py310/lib/python3.10/site-packages/elasticsearch/connection/base.py:200: ElasticsearchWarning: Elasticsearch built-in security features are not enabled. Without authentication, your cluster could be accessible to anyone. See https://www.elastic.co/guide/en/elasticsearch/reference/7.17/security-minimal-setup.html to enable security.\n",
      "  warnings.warn(message, category=ElasticsearchWarning)\n",
      "INFO - haystack.document_stores.search_engine -  Updating embeddings for all 1000 docs ...\n",
      "Batches: 100%|██████████| 32/32 [00:34<00:00,  1.08s/it] Docs/s]\n",
      "Updating embeddings: 10000 Docs [00:42, 237.35 Docs/s]          \n",
      "Batches: 100%|██████████| 1/1 [00:00<00:00, 49.07it/s]\n"
     ]
    },
    {
     "name": "stdout",
     "output_type": "stream",
     "text": [
      "                     Year                   Coach              Super Bowl  \\\n",
      "0                    1966          Vince Lombardi                       I   \n",
      "1                    1967          Vince Lombardi                      II   \n",
      "2                    1996           Mike Holmgren                    XXXI   \n",
      "3                    2010           Mike McCarthy                     XLV   \n",
      "4  Total Super Bowls won:  Total Super Bowls won:  Total Super Bowls won:   \n",
      "\n",
      "                  Location                Opponent  Score Record  \n",
      "0  Los Angeles, California      Kansas City Chiefs  35–10   12–2  \n",
      "1           Miami, Florida         Oakland Raiders  33–14  9–4–1  \n",
      "2   New Orleans, Louisiana    New England Patriots  35–21   13–3  \n",
      "3         Arlington, Texas     Pittsburgh Steelers  31–25   10–6  \n",
      "4   Total Super Bowls won:  Total Super Bowls won:      4      4  \n"
     ]
    }
   ],
   "source": [
    "retriever = EmbeddingRetriever(document_store=document_store, embedding_model=\"deepset/all-mpnet-base-v2-table\")\n",
    "document_store.update_embeddings(retriever=retriever)\n",
    "retrieved_tables = retriever.retrieve(\"Who won the Super Bowl?\", top_k=5)\n",
    "\n",
    "print(retrieved_tables[0].content)"
   ]
  },
  {
   "cell_type": "code",
   "execution_count": 10,
   "metadata": {},
   "outputs": [
    {
     "name": "stderr",
     "output_type": "stream",
     "text": [
      "INFO - haystack.modeling.utils -  Using devices: CUDA:0 - Number of GPUs: 1\n"
     ]
    },
    {
     "name": "stdout",
     "output_type": "stream",
     "text": [
      "                  Name        Program           Role       Salary     Year  \\\n",
      "0         Simon Cowell   The X Factor          Judge  $75 million  2012–13   \n",
      "1       Britney Spears  American Idol    $25 million      2017–18     [15]   \n",
      "2       Jennifer Lopez    $20 million        2011–12         [16]      nan   \n",
      "3         Mariah Carey    $18 million        2012–13         [17]      nan   \n",
      "4          Hugh Laurie          House  Gregory House  $15 million     2013   \n",
      "5        Ryan Seacrest  American Idol           Host      2013–16     [14]   \n",
      "6           Katy Perry   The X Factor          Judge         2012     [17]   \n",
      "7          Miley Cyrus      The Voice          Coach  $13 million  2016–17   \n",
      "8          Adam Levine        2016–18           [18]          nan      nan   \n",
      "9        Blake Shelton        2016–18           [18]          nan      nan   \n",
      "10  Christina Aguilera  $12.5 million           2013         [19]      nan   \n",
      "11      Kelly Clarkson    $12 million           2018         [20]      nan   \n",
      "12             Shakira           2013           [19]          nan      nan   \n",
      "13        Gwen Stefani           2017           [21]          nan      nan   \n",
      "14         Nicki Minaj  American Idol          Judge      2012–13     [19]   \n",
      "\n",
      "    Ref.  \n",
      "0   [14]  \n",
      "1    nan  \n",
      "2    nan  \n",
      "3    nan  \n",
      "4   [14]  \n",
      "5    nan  \n",
      "6    nan  \n",
      "7   [18]  \n",
      "8    nan  \n",
      "9    nan  \n",
      "10   nan  \n",
      "11   nan  \n",
      "12   nan  \n",
      "13   nan  \n",
      "14   nan  \n"
     ]
    },
    {
     "name": "stderr",
     "output_type": "stream",
     "text": [
      "/home/catsmile/miniconda3/envs/py310/lib/python3.10/site-packages/elasticsearch/connection/base.py:200: ElasticsearchWarning: Elasticsearch built-in security features are not enabled. Without authentication, your cluster could be accessible to anyone. See https://www.elastic.co/guide/en/elasticsearch/reference/7.17/security-minimal-setup.html to enable security.\n",
      "  warnings.warn(message, category=ElasticsearchWarning)\n"
     ]
    }
   ],
   "source": [
    "reader = TableReader(model_name_or_path=\"google/tapas-base-finetuned-wtq\", max_seq_len=512)\n",
    "table_doc = document_store.get_document_by_id(\"36964e90-3735-4ba1-8e6a-bec236e88bb2\")\n",
    "print(table_doc.content)"
   ]
  },
  {
   "cell_type": "code",
   "execution_count": 11,
   "metadata": {},
   "outputs": [
    {
     "name": "stdout",
     "output_type": "stream",
     "text": [
      "'Query: Who played Gregory House in the series House?'\n",
      "'Answers:'\n",
      "[   <Answer {'answer': 'Hugh Laurie', 'type': 'extractive', 'score': 1.0, 'context': [['Name', 'Program', 'Role', 'Salary', 'Year', 'Ref.'], ['Simon Cowell', 'The X Factor', 'Judge', '$75 million', '2012–13', '[14]'], ['Britney Spears', 'American Idol', '$25 million', '2017–18', '[15]', 'nan'], ['Jennifer Lopez', '$20 million', '2011–12', '[16]', 'nan', 'nan'], ['Mariah Carey', '$18 million', '2012–13', '[17]', 'nan', 'nan'], ['Hugh Laurie', 'House', 'Gregory House', '$15 million', '2013', '[14]'], ['Ryan Seacrest', 'American Idol', 'Host', '2013–16', '[14]', 'nan'], ['Katy Perry', 'The X Factor', 'Judge', '2012', '[17]', 'nan'], ['Miley Cyrus', 'The Voice', 'Coach', '$13 million', '2016–17', '[18]'], ['Adam Levine', '2016–18', '[18]', 'nan', 'nan', 'nan'], ['Blake Shelton', '2016–18', '[18]', 'nan', 'nan', 'nan'], ['Christina Aguilera', '$12.5 million', '2013', '[19]', 'nan', 'nan'], ['Kelly Clarkson', '$12 million', '2018', '[20]', 'nan', 'nan'], ['Shakira', '2013', '[19]', 'nan', 'nan', 'nan'], ['Gwen Stefani', '2017', '[21]', 'nan', 'nan', 'nan'], ['Nicki Minaj', 'American Idol', 'Judge', '2012–13', '[19]', 'nan']], 'offsets_in_document': [{'row': 4, 'col': 0}], 'offsets_in_context': [{'row': 4, 'col': 0}], 'document_ids': ['36964e90-3735-4ba1-8e6a-bec236e88bb2'], 'meta': {'aggregation_operator': 'NONE', 'answer_cells': ['Hugh Laurie']}}>]\n"
     ]
    }
   ],
   "source": [
    "prediction = reader.predict(query=\"Who played Gregory House in the series House?\", documents=[table_doc])\n",
    "print_answers(prediction, details=\"all\")"
   ]
  },
  {
   "cell_type": "code",
   "execution_count": 12,
   "metadata": {},
   "outputs": [
    {
     "name": "stdout",
     "output_type": "stream",
     "text": [
      "Predicted answer: Hugh Laurie\n",
      "Meta field: {'aggregation_operator': 'NONE', 'answer_cells': ['Hugh Laurie']}\n"
     ]
    }
   ],
   "source": [
    "print(f\"Predicted answer: {prediction['answers'][0].answer}\")\n",
    "print(f\"Meta field: {prediction['answers'][0].meta}\")"
   ]
  },
  {
   "cell_type": "code",
   "execution_count": 13,
   "metadata": {},
   "outputs": [
    {
     "name": "stderr",
     "output_type": "stream",
     "text": [
      "Batches:   0%|          | 0/1 [00:00<?, ?it/s]"
     ]
    },
    {
     "name": "stderr",
     "output_type": "stream",
     "text": [
      "Batches: 100%|██████████| 1/1 [00:00<00:00,  9.46it/s]\n",
      "/home/catsmile/miniconda3/envs/py310/lib/python3.10/site-packages/elasticsearch/connection/base.py:200: ElasticsearchWarning: Elasticsearch built-in security features are not enabled. Without authentication, your cluster could be accessible to anyone. See https://www.elastic.co/guide/en/elasticsearch/reference/7.17/security-minimal-setup.html to enable security.\n",
      "  warnings.warn(message, category=ElasticsearchWarning)\n"
     ]
    },
    {
     "name": "stdout",
     "output_type": "stream",
     "text": [
      "'Query: Who played Gregory House in the series House?'\n",
      "'Answers:'\n",
      "[   {   'answer': 'Christopher Columbus',\n",
      "        'context':          Year                               Title  \\\n",
      "0   1978-1979                        The Riordans   \n",
      "1   1980-1982                             Bracken   \n",
      "2        1981                           Strangers   \n",
      "3        1981  The Search for Alexander the Great   \n",
      "4        1982                       Joyce in June   \n",
      "5        1983                              Wagner   \n",
      "6        1985                Christopher Columbus   \n",
      "7        1985        Mussolini : The Untold Story   \n",
      "8        1993                   Intimate Portrait   \n",
      "9        1994                          Screen Two   \n",
      "10       1995                       Buffalo Girls   \n",
      "11       1995                 Saturday Night Live   \n",
      "12       1996                            Draíocht   \n",
      "13       1997                             Glenroe   \n",
      "14       1997         Weapons of Mass Distraction   \n",
      "15       2000                         Madigan Men   \n",
      "16  2008-2010                        In Treatment   \n",
      "17       2012                        Secret State   \n",
      "18       2013                             Vikings   \n",
      "19       2014                              Quirke   \n",
      "\n",
      "                                     Role  \\\n",
      "0                               Pat Barry   \n",
      "1                               Pat Barry   \n",
      "2                          Johnny Maguire   \n",
      "3                                 Ptolemy   \n",
      "4                   Keogh / Blazes Boylan   \n",
      "5                             Karl Ritter   \n",
      "6                    Christopher Columbus   \n",
      "7                      Vittorio Mussolini   \n",
      "8                      Narrator ( voice )   \n",
      "9                          The Good Thief   \n",
      "10                             Teddy Blue   \n",
      "11  Himself ( host ) / Various characters   \n",
      "12                                 Father   \n",
      "13                              Pat Barry   \n",
      "14                          Lionel Powers   \n",
      "15                   Benjamin Ben Madigan   \n",
      "16                        Dr. Paul Weston   \n",
      "17                            Tom Dawkins   \n",
      "18                         Earl Haraldson   \n",
      "19                                 Quirke   \n",
      "\n",
      "                                                Notes  \n",
      "0                                        Drama series  \n",
      "1                                        Drama series  \n",
      "2                  Episode : The Flowers of Edinburgh  \n",
      "3                                          4 episodes  \n",
      "4                                     Television film  \n",
      "5                                          3 episodes  \n",
      "6                                          4 episodes  \n",
      "7                                          6 episodes  \n",
      "8                              Episode : Kim Cattrall  \n",
      "9           Episode : All Things Bright and Beautiful  \n",
      "10                                    Television film  \n",
      "11         Episode : Gabriel Byrne/ Alanis Morissette  \n",
      "12                                    Television film  \n",
      "13                     Episode : Miley 's New Bullock  \n",
      "14  Television film Nominated - Satellite Award fo...  \n",
      "15           12 episodes ; also co-executive producer  \n",
      "16  106 episodes Golden Globe Award for Best Actor...  \n",
      "17                                         4 episodes  \n",
      "18                                         6 episodes  \n",
      "19                                         3 episodes  },\n",
      "    {   'answer': 'Jessica Hamby, Karen Page',\n",
      "        'context':          Year                               Title               Role  \\\n",
      "0        2007                                Life    Nancy Wiscinski   \n",
      "1        2008                   Aces ' N ' Eights    Terrified Woman   \n",
      "2        2008                                  ER       Aurora Quill   \n",
      "3        2008     CSI : Crime Scene Investigation  Waitress Stephane   \n",
      "4        2008                     My Name Is Earl              Greta   \n",
      "5        2008                       The Mentalist      Kerry Sheehan   \n",
      "6   2008-2014                          True Blood      Jessica Hamby   \n",
      "7        2009  Law & Order : Special Victims Unit        Lily Milton   \n",
      "8        2011                     Hell 's Kitchen            Herself   \n",
      "9        2013                             Axe Cop    Best Fairy Ever   \n",
      "10  2015-2018                           Daredevil         Karen Page   \n",
      "11       2017                       The Defenders         Karen Page   \n",
      "12  2017-2019                        The Punisher         Karen Page   \n",
      "\n",
      "                                Notes  \n",
      "0                 Episode : Powerless  \n",
      "1                     Television film  \n",
      "2   Episode : Owner of a Broken Heart  \n",
      "3                 Episode : For Gedda  \n",
      "4                          2 episodes  \n",
      "5         Episode : Red Brick and Ivy  \n",
      "6                         70 episodes  \n",
      "7                  Episode : Solitary  \n",
      "8                         Guest diner  \n",
      "9             Episode : The Dumb List  \n",
      "10                        39 episodes  \n",
      "11                         4 episodes  \n",
      "12                         5 episodes  }]\n"
     ]
    }
   ],
   "source": [
    "# Initialize pipeline\n",
    "from haystack import Pipeline\n",
    "\n",
    "table_qa_pipeline = Pipeline()\n",
    "table_qa_pipeline.add_node(component=retriever, name=\"EmbeddingRetriever\", inputs=[\"Query\"])\n",
    "table_qa_pipeline.add_node(component=reader, name=\"TableReader\", inputs=[\"EmbeddingRetriever\"])\n",
    "# prediction = table_qa_pipeline.run(\"When was Guilty Gear Xrd : Sign released?\", params={\"top_k\": 3})\n",
    "prediction = table_qa_pipeline.run(\"Who played Gregory House in the series House?\", params={\"top_k\": 3})\n",
    "print_answers(prediction, details=\"minimum\")"
   ]
  },
  {
   "cell_type": "code",
   "execution_count": 14,
   "metadata": {},
   "outputs": [
    {
     "name": "stdout",
     "output_type": "stream",
     "text": [
      "Predicted answer: Christopher Columbus\n",
      "Meta field: {'aggregation_operator': 'NONE', 'answer_cells': ['Christopher Columbus']}\n"
     ]
    }
   ],
   "source": [
    "print(f\"Predicted answer: {prediction['answers'][0].answer}\")\n",
    "print(f\"Meta field: {prediction['answers'][0].meta}\")"
   ]
  },
  {
   "cell_type": "code",
   "execution_count": 21,
   "metadata": {},
   "outputs": [
    {
     "name": "stderr",
     "output_type": "stream",
     "text": [
      "/home/catsmile/miniconda3/envs/py310/lib/python3.10/site-packages/elasticsearch/connection/base.py:200: ElasticsearchWarning: Elasticsearch built-in security features are not enabled. Without authentication, your cluster could be accessible to anyone. See https://www.elastic.co/guide/en/elasticsearch/reference/7.17/security-minimal-setup.html to enable security.\n",
      "  warnings.warn(message, category=ElasticsearchWarning)\n",
      "Batches: 100%|██████████| 18/18 [00:09<00:00,  1.87it/s]Docs/s]\n",
      "Updating embeddings: 10000 Docs [00:14, 703.44 Docs/s]         \n"
     ]
    }
   ],
   "source": [
    "# Add 500 text passages to our document store.\n",
    "\n",
    "def read_texts(filename):\n",
    "    processed_passages = []\n",
    "    with open(filename) as passages:\n",
    "        passages = json.load(passages)\n",
    "        for key, content in passages.items():\n",
    "            document = Document(content=content, content_type=\"text\", id=key)\n",
    "            processed_passages.append(document)\n",
    "\n",
    "    return processed_passages\n",
    "\n",
    "\n",
    "passages = read_texts(f\"{doc_dir}/texts.json\")\n",
    "document_store.write_documents(passages, index=document_index)\n",
    "document_store.update_embeddings(retriever=retriever, update_existing_embeddings=False)\n"
   ]
  },
  {
   "cell_type": "code",
   "execution_count": 22,
   "metadata": {},
   "outputs": [
    {
     "name": "stderr",
     "output_type": "stream",
     "text": [
      "INFO - haystack.modeling.utils -  Using devices: CUDA:0 - Number of GPUs: 1\n",
      "INFO - haystack.modeling.utils -  Using devices: CUDA:0 - Number of GPUs: 1\n",
      "Downloading (…)lve/main/config.json: 100%|██████████| 571/571 [00:00<00:00, 441kB/s]\n",
      "INFO - haystack.modeling.model.language_model -   * LOADING MODEL: 'deepset/roberta-base-squad2' (Roberta)\n",
      "Downloading model.safetensors: 100%|██████████| 496M/496M [00:07<00:00, 70.6MB/s] \n",
      "INFO - haystack.modeling.model.language_model -  Auto-detected model language: english\n",
      "INFO - haystack.modeling.model.language_model -  Loaded 'deepset/roberta-base-squad2' (Roberta model) from model hub.\n",
      "Downloading (…)okenizer_config.json: 100%|██████████| 79.0/79.0 [00:00<00:00, 75.7kB/s]\n",
      "Downloading (…)olve/main/vocab.json: 100%|██████████| 899k/899k [00:00<00:00, 3.21MB/s]\n",
      "Downloading (…)olve/main/merges.txt: 100%|██████████| 456k/456k [00:00<00:00, 1.58MB/s]\n",
      "Downloading (…)cial_tokens_map.json: 100%|██████████| 772/772 [00:00<00:00, 2.57MB/s]\n",
      "INFO - haystack.modeling.utils -  Using devices: CUDA:0 - Number of GPUs: 1\n",
      "INFO - haystack.modeling.utils -  Using devices: CUDA:0 - Number of GPUs: 1\n",
      "Downloading (…)lve/main/config.json: 100%|██████████| 1.48k/1.48k [00:00<00:00, 6.25MB/s]\n",
      "Downloading pytorch_model.bin: 100%|██████████| 1.35G/1.35G [00:50<00:00, 26.9MB/s]\n",
      "Downloading (…)solve/main/vocab.txt: 100%|██████████| 232k/232k [00:00<00:00, 63.0MB/s]\n",
      "Downloading (…)cial_tokens_map.json: 100%|██████████| 154/154 [00:00<00:00, 513kB/s]\n",
      "Downloading (…)okenizer_config.json: 100%|██████████| 558/558 [00:00<00:00, 1.55MB/s]\n"
     ]
    }
   ],
   "source": [
    "from haystack.nodes import FARMReader, RouteDocuments, JoinAnswers\n",
    "\n",
    "text_reader = FARMReader(\"deepset/roberta-base-squad2\")\n",
    "# In order to get meaningful scores from the TableReader, use \"deepset/tapas-large-nq-hn-reader\" or\n",
    "# \"deepset/tapas-large-nq-reader\" as TableReader models. The disadvantage of these models is, however,\n",
    "# that they are not capable of doing aggregations over multiple table cells.\n",
    "table_reader = TableReader(\"deepset/tapas-large-nq-hn-reader\")\n",
    "route_documents = RouteDocuments()\n",
    "join_answers = JoinAnswers()\n"
   ]
  },
  {
   "cell_type": "code",
   "execution_count": 23,
   "metadata": {},
   "outputs": [],
   "source": [
    "text_table_qa_pipeline = Pipeline()\n",
    "text_table_qa_pipeline.add_node(component=retriever, name=\"EmbeddingRetriever\", inputs=[\"Query\"])\n",
    "text_table_qa_pipeline.add_node(component=route_documents, name=\"RouteDocuments\", inputs=[\"EmbeddingRetriever\"])\n",
    "text_table_qa_pipeline.add_node(component=text_reader, name=\"TextReader\", inputs=[\"RouteDocuments.output_1\"])\n",
    "text_table_qa_pipeline.add_node(component=table_reader, name=\"TableReader\", inputs=[\"RouteDocuments.output_2\"])\n",
    "text_table_qa_pipeline.add_node(component=join_answers, name=\"JoinAnswers\", inputs=[\"TextReader\", \"TableReader\"])\n"
   ]
  },
  {
   "cell_type": "code",
   "execution_count": 25,
   "metadata": {},
   "outputs": [
    {
     "name": "stderr",
     "output_type": "stream",
     "text": [
      "Batches: 100%|██████████| 1/1 [00:00<00:00, 13.51it/s]\n",
      "WARNING - elasticsearch -  POST http://localhost:9200/document/_search [status:N/A request:0.001s]\n",
      "Traceback (most recent call last):\n",
      "  File \"/home/catsmile/miniconda3/envs/py310/lib/python3.10/site-packages/urllib3/connection.py\", line 174, in _new_conn\n",
      "    conn = connection.create_connection(\n",
      "  File \"/home/catsmile/miniconda3/envs/py310/lib/python3.10/site-packages/urllib3/util/connection.py\", line 95, in create_connection\n",
      "    raise err\n",
      "  File \"/home/catsmile/miniconda3/envs/py310/lib/python3.10/site-packages/urllib3/util/connection.py\", line 85, in create_connection\n",
      "    sock.connect(sa)\n",
      "ConnectionRefusedError: [Errno 111] Connection refused\n",
      "\n",
      "During handling of the above exception, another exception occurred:\n",
      "\n",
      "Traceback (most recent call last):\n",
      "  File \"/home/catsmile/miniconda3/envs/py310/lib/python3.10/site-packages/elasticsearch/connection/http_urllib3.py\", line 255, in perform_request\n",
      "    response = self.pool.urlopen(\n",
      "  File \"/home/catsmile/miniconda3/envs/py310/lib/python3.10/site-packages/urllib3/connectionpool.py\", line 798, in urlopen\n",
      "    retries = retries.increment(\n",
      "  File \"/home/catsmile/miniconda3/envs/py310/lib/python3.10/site-packages/urllib3/util/retry.py\", line 525, in increment\n",
      "    raise six.reraise(type(error), error, _stacktrace)\n",
      "  File \"/home/catsmile/miniconda3/envs/py310/lib/python3.10/site-packages/urllib3/packages/six.py\", line 770, in reraise\n",
      "    raise value\n",
      "  File \"/home/catsmile/miniconda3/envs/py310/lib/python3.10/site-packages/urllib3/connectionpool.py\", line 714, in urlopen\n",
      "    httplib_response = self._make_request(\n",
      "  File \"/home/catsmile/miniconda3/envs/py310/lib/python3.10/site-packages/urllib3/connectionpool.py\", line 415, in _make_request\n",
      "    conn.request(method, url, **httplib_request_kw)\n",
      "  File \"/home/catsmile/miniconda3/envs/py310/lib/python3.10/site-packages/urllib3/connection.py\", line 244, in request\n",
      "    super(HTTPConnection, self).request(method, url, body=body, headers=headers)\n",
      "  File \"/home/catsmile/miniconda3/envs/py310/lib/python3.10/http/client.py\", line 1283, in request\n",
      "    self._send_request(method, url, body, headers, encode_chunked)\n",
      "  File \"/home/catsmile/miniconda3/envs/py310/lib/python3.10/http/client.py\", line 1329, in _send_request\n",
      "    self.endheaders(body, encode_chunked=encode_chunked)\n",
      "  File \"/home/catsmile/miniconda3/envs/py310/lib/python3.10/http/client.py\", line 1278, in endheaders\n",
      "    self._send_output(message_body, encode_chunked=encode_chunked)\n",
      "  File \"/home/catsmile/miniconda3/envs/py310/lib/python3.10/http/client.py\", line 1038, in _send_output\n",
      "    self.send(msg)\n",
      "  File \"/home/catsmile/miniconda3/envs/py310/lib/python3.10/http/client.py\", line 976, in send\n",
      "    self.connect()\n",
      "  File \"/home/catsmile/miniconda3/envs/py310/lib/python3.10/site-packages/urllib3/connection.py\", line 205, in connect\n",
      "    conn = self._new_conn()\n",
      "  File \"/home/catsmile/miniconda3/envs/py310/lib/python3.10/site-packages/urllib3/connection.py\", line 186, in _new_conn\n",
      "    raise NewConnectionError(\n",
      "urllib3.exceptions.NewConnectionError: <urllib3.connection.HTTPConnection object at 0x7fa384d7e020>: Failed to establish a new connection: [Errno 111] Connection refused\n",
      "WARNING - elasticsearch -  POST http://localhost:9200/document/_search [status:N/A request:0.001s]\n",
      "Traceback (most recent call last):\n",
      "  File \"/home/catsmile/miniconda3/envs/py310/lib/python3.10/site-packages/urllib3/connection.py\", line 174, in _new_conn\n",
      "    conn = connection.create_connection(\n",
      "  File \"/home/catsmile/miniconda3/envs/py310/lib/python3.10/site-packages/urllib3/util/connection.py\", line 95, in create_connection\n",
      "    raise err\n",
      "  File \"/home/catsmile/miniconda3/envs/py310/lib/python3.10/site-packages/urllib3/util/connection.py\", line 85, in create_connection\n",
      "    sock.connect(sa)\n",
      "ConnectionRefusedError: [Errno 111] Connection refused\n",
      "\n",
      "During handling of the above exception, another exception occurred:\n",
      "\n",
      "Traceback (most recent call last):\n",
      "  File \"/home/catsmile/miniconda3/envs/py310/lib/python3.10/site-packages/elasticsearch/connection/http_urllib3.py\", line 255, in perform_request\n",
      "    response = self.pool.urlopen(\n",
      "  File \"/home/catsmile/miniconda3/envs/py310/lib/python3.10/site-packages/urllib3/connectionpool.py\", line 798, in urlopen\n",
      "    retries = retries.increment(\n",
      "  File \"/home/catsmile/miniconda3/envs/py310/lib/python3.10/site-packages/urllib3/util/retry.py\", line 525, in increment\n",
      "    raise six.reraise(type(error), error, _stacktrace)\n",
      "  File \"/home/catsmile/miniconda3/envs/py310/lib/python3.10/site-packages/urllib3/packages/six.py\", line 770, in reraise\n",
      "    raise value\n",
      "  File \"/home/catsmile/miniconda3/envs/py310/lib/python3.10/site-packages/urllib3/connectionpool.py\", line 714, in urlopen\n",
      "    httplib_response = self._make_request(\n",
      "  File \"/home/catsmile/miniconda3/envs/py310/lib/python3.10/site-packages/urllib3/connectionpool.py\", line 415, in _make_request\n",
      "    conn.request(method, url, **httplib_request_kw)\n",
      "  File \"/home/catsmile/miniconda3/envs/py310/lib/python3.10/site-packages/urllib3/connection.py\", line 244, in request\n",
      "    super(HTTPConnection, self).request(method, url, body=body, headers=headers)\n",
      "  File \"/home/catsmile/miniconda3/envs/py310/lib/python3.10/http/client.py\", line 1283, in request\n",
      "    self._send_request(method, url, body, headers, encode_chunked)\n",
      "  File \"/home/catsmile/miniconda3/envs/py310/lib/python3.10/http/client.py\", line 1329, in _send_request\n",
      "    self.endheaders(body, encode_chunked=encode_chunked)\n",
      "  File \"/home/catsmile/miniconda3/envs/py310/lib/python3.10/http/client.py\", line 1278, in endheaders\n",
      "    self._send_output(message_body, encode_chunked=encode_chunked)\n",
      "  File \"/home/catsmile/miniconda3/envs/py310/lib/python3.10/http/client.py\", line 1038, in _send_output\n",
      "    self.send(msg)\n",
      "  File \"/home/catsmile/miniconda3/envs/py310/lib/python3.10/http/client.py\", line 976, in send\n",
      "    self.connect()\n",
      "  File \"/home/catsmile/miniconda3/envs/py310/lib/python3.10/site-packages/urllib3/connection.py\", line 205, in connect\n",
      "    conn = self._new_conn()\n",
      "  File \"/home/catsmile/miniconda3/envs/py310/lib/python3.10/site-packages/urllib3/connection.py\", line 186, in _new_conn\n",
      "    raise NewConnectionError(\n",
      "urllib3.exceptions.NewConnectionError: <urllib3.connection.HTTPConnection object at 0x7fa3727880a0>: Failed to establish a new connection: [Errno 111] Connection refused\n",
      "WARNING - elasticsearch -  POST http://localhost:9200/document/_search [status:N/A request:0.001s]\n",
      "Traceback (most recent call last):\n",
      "  File \"/home/catsmile/miniconda3/envs/py310/lib/python3.10/site-packages/urllib3/connection.py\", line 174, in _new_conn\n",
      "    conn = connection.create_connection(\n",
      "  File \"/home/catsmile/miniconda3/envs/py310/lib/python3.10/site-packages/urllib3/util/connection.py\", line 95, in create_connection\n",
      "    raise err\n",
      "  File \"/home/catsmile/miniconda3/envs/py310/lib/python3.10/site-packages/urllib3/util/connection.py\", line 85, in create_connection\n",
      "    sock.connect(sa)\n",
      "ConnectionRefusedError: [Errno 111] Connection refused\n",
      "\n",
      "During handling of the above exception, another exception occurred:\n",
      "\n",
      "Traceback (most recent call last):\n",
      "  File \"/home/catsmile/miniconda3/envs/py310/lib/python3.10/site-packages/elasticsearch/connection/http_urllib3.py\", line 255, in perform_request\n",
      "    response = self.pool.urlopen(\n",
      "  File \"/home/catsmile/miniconda3/envs/py310/lib/python3.10/site-packages/urllib3/connectionpool.py\", line 798, in urlopen\n",
      "    retries = retries.increment(\n",
      "  File \"/home/catsmile/miniconda3/envs/py310/lib/python3.10/site-packages/urllib3/util/retry.py\", line 525, in increment\n",
      "    raise six.reraise(type(error), error, _stacktrace)\n",
      "  File \"/home/catsmile/miniconda3/envs/py310/lib/python3.10/site-packages/urllib3/packages/six.py\", line 770, in reraise\n",
      "    raise value\n",
      "  File \"/home/catsmile/miniconda3/envs/py310/lib/python3.10/site-packages/urllib3/connectionpool.py\", line 714, in urlopen\n",
      "    httplib_response = self._make_request(\n",
      "  File \"/home/catsmile/miniconda3/envs/py310/lib/python3.10/site-packages/urllib3/connectionpool.py\", line 415, in _make_request\n",
      "    conn.request(method, url, **httplib_request_kw)\n",
      "  File \"/home/catsmile/miniconda3/envs/py310/lib/python3.10/site-packages/urllib3/connection.py\", line 244, in request\n",
      "    super(HTTPConnection, self).request(method, url, body=body, headers=headers)\n",
      "  File \"/home/catsmile/miniconda3/envs/py310/lib/python3.10/http/client.py\", line 1283, in request\n",
      "    self._send_request(method, url, body, headers, encode_chunked)\n",
      "  File \"/home/catsmile/miniconda3/envs/py310/lib/python3.10/http/client.py\", line 1329, in _send_request\n",
      "    self.endheaders(body, encode_chunked=encode_chunked)\n",
      "  File \"/home/catsmile/miniconda3/envs/py310/lib/python3.10/http/client.py\", line 1278, in endheaders\n",
      "    self._send_output(message_body, encode_chunked=encode_chunked)\n",
      "  File \"/home/catsmile/miniconda3/envs/py310/lib/python3.10/http/client.py\", line 1038, in _send_output\n",
      "    self.send(msg)\n",
      "  File \"/home/catsmile/miniconda3/envs/py310/lib/python3.10/http/client.py\", line 976, in send\n",
      "    self.connect()\n",
      "  File \"/home/catsmile/miniconda3/envs/py310/lib/python3.10/site-packages/urllib3/connection.py\", line 205, in connect\n",
      "    conn = self._new_conn()\n",
      "  File \"/home/catsmile/miniconda3/envs/py310/lib/python3.10/site-packages/urllib3/connection.py\", line 186, in _new_conn\n",
      "    raise NewConnectionError(\n",
      "urllib3.exceptions.NewConnectionError: <urllib3.connection.HTTPConnection object at 0x7fa372788610>: Failed to establish a new connection: [Errno 111] Connection refused\n",
      "WARNING - elasticsearch -  POST http://localhost:9200/document/_search [status:N/A request:0.001s]\n",
      "Traceback (most recent call last):\n",
      "  File \"/home/catsmile/miniconda3/envs/py310/lib/python3.10/site-packages/urllib3/connection.py\", line 174, in _new_conn\n",
      "    conn = connection.create_connection(\n",
      "  File \"/home/catsmile/miniconda3/envs/py310/lib/python3.10/site-packages/urllib3/util/connection.py\", line 95, in create_connection\n",
      "    raise err\n",
      "  File \"/home/catsmile/miniconda3/envs/py310/lib/python3.10/site-packages/urllib3/util/connection.py\", line 85, in create_connection\n",
      "    sock.connect(sa)\n",
      "ConnectionRefusedError: [Errno 111] Connection refused\n",
      "\n",
      "During handling of the above exception, another exception occurred:\n",
      "\n",
      "Traceback (most recent call last):\n",
      "  File \"/home/catsmile/miniconda3/envs/py310/lib/python3.10/site-packages/elasticsearch/connection/http_urllib3.py\", line 255, in perform_request\n",
      "    response = self.pool.urlopen(\n",
      "  File \"/home/catsmile/miniconda3/envs/py310/lib/python3.10/site-packages/urllib3/connectionpool.py\", line 798, in urlopen\n",
      "    retries = retries.increment(\n",
      "  File \"/home/catsmile/miniconda3/envs/py310/lib/python3.10/site-packages/urllib3/util/retry.py\", line 525, in increment\n",
      "    raise six.reraise(type(error), error, _stacktrace)\n",
      "  File \"/home/catsmile/miniconda3/envs/py310/lib/python3.10/site-packages/urllib3/packages/six.py\", line 770, in reraise\n",
      "    raise value\n",
      "  File \"/home/catsmile/miniconda3/envs/py310/lib/python3.10/site-packages/urllib3/connectionpool.py\", line 714, in urlopen\n",
      "    httplib_response = self._make_request(\n",
      "  File \"/home/catsmile/miniconda3/envs/py310/lib/python3.10/site-packages/urllib3/connectionpool.py\", line 415, in _make_request\n",
      "    conn.request(method, url, **httplib_request_kw)\n",
      "  File \"/home/catsmile/miniconda3/envs/py310/lib/python3.10/site-packages/urllib3/connection.py\", line 244, in request\n",
      "    super(HTTPConnection, self).request(method, url, body=body, headers=headers)\n",
      "  File \"/home/catsmile/miniconda3/envs/py310/lib/python3.10/http/client.py\", line 1283, in request\n",
      "    self._send_request(method, url, body, headers, encode_chunked)\n",
      "  File \"/home/catsmile/miniconda3/envs/py310/lib/python3.10/http/client.py\", line 1329, in _send_request\n",
      "    self.endheaders(body, encode_chunked=encode_chunked)\n",
      "  File \"/home/catsmile/miniconda3/envs/py310/lib/python3.10/http/client.py\", line 1278, in endheaders\n",
      "    self._send_output(message_body, encode_chunked=encode_chunked)\n",
      "  File \"/home/catsmile/miniconda3/envs/py310/lib/python3.10/http/client.py\", line 1038, in _send_output\n",
      "    self.send(msg)\n",
      "  File \"/home/catsmile/miniconda3/envs/py310/lib/python3.10/http/client.py\", line 976, in send\n",
      "    self.connect()\n",
      "  File \"/home/catsmile/miniconda3/envs/py310/lib/python3.10/site-packages/urllib3/connection.py\", line 205, in connect\n",
      "    conn = self._new_conn()\n",
      "  File \"/home/catsmile/miniconda3/envs/py310/lib/python3.10/site-packages/urllib3/connection.py\", line 186, in _new_conn\n",
      "    raise NewConnectionError(\n",
      "urllib3.exceptions.NewConnectionError: <urllib3.connection.HTTPConnection object at 0x7fa37278b520>: Failed to establish a new connection: [Errno 111] Connection refused\n"
     ]
    },
    {
     "ename": "Exception",
     "evalue": "Exception while running node 'EmbeddingRetriever': ConnectionError(<urllib3.connection.HTTPConnection object at 0x7fa37278b520>: Failed to establish a new connection: [Errno 111] Connection refused) caused by: NewConnectionError(<urllib3.connection.HTTPConnection object at 0x7fa37278b520>: Failed to establish a new connection: [Errno 111] Connection refused)\nEnable debug logging to see the data that was passed when the pipeline failed.",
     "output_type": "error",
     "traceback": [
      "\u001b[0;31m---------------------------------------------------------------------------\u001b[0m",
      "\u001b[0;31mConnectionRefusedError\u001b[0m                    Traceback (most recent call last)",
      "File \u001b[0;32m~/miniconda3/envs/py310/lib/python3.10/site-packages/urllib3/connection.py:174\u001b[0m, in \u001b[0;36mHTTPConnection._new_conn\u001b[0;34m(self)\u001b[0m\n\u001b[1;32m    173\u001b[0m \u001b[39mtry\u001b[39;00m:\n\u001b[0;32m--> 174\u001b[0m     conn \u001b[39m=\u001b[39m connection\u001b[39m.\u001b[39;49mcreate_connection(\n\u001b[1;32m    175\u001b[0m         (\u001b[39mself\u001b[39;49m\u001b[39m.\u001b[39;49m_dns_host, \u001b[39mself\u001b[39;49m\u001b[39m.\u001b[39;49mport), \u001b[39mself\u001b[39;49m\u001b[39m.\u001b[39;49mtimeout, \u001b[39m*\u001b[39;49m\u001b[39m*\u001b[39;49mextra_kw\n\u001b[1;32m    176\u001b[0m     )\n\u001b[1;32m    178\u001b[0m \u001b[39mexcept\u001b[39;00m SocketTimeout:\n",
      "File \u001b[0;32m~/miniconda3/envs/py310/lib/python3.10/site-packages/urllib3/util/connection.py:95\u001b[0m, in \u001b[0;36mcreate_connection\u001b[0;34m(address, timeout, source_address, socket_options)\u001b[0m\n\u001b[1;32m     94\u001b[0m \u001b[39mif\u001b[39;00m err \u001b[39mis\u001b[39;00m \u001b[39mnot\u001b[39;00m \u001b[39mNone\u001b[39;00m:\n\u001b[0;32m---> 95\u001b[0m     \u001b[39mraise\u001b[39;00m err\n\u001b[1;32m     97\u001b[0m \u001b[39mraise\u001b[39;00m socket\u001b[39m.\u001b[39merror(\u001b[39m\"\u001b[39m\u001b[39mgetaddrinfo returns an empty list\u001b[39m\u001b[39m\"\u001b[39m)\n",
      "File \u001b[0;32m~/miniconda3/envs/py310/lib/python3.10/site-packages/urllib3/util/connection.py:85\u001b[0m, in \u001b[0;36mcreate_connection\u001b[0;34m(address, timeout, source_address, socket_options)\u001b[0m\n\u001b[1;32m     84\u001b[0m     sock\u001b[39m.\u001b[39mbind(source_address)\n\u001b[0;32m---> 85\u001b[0m sock\u001b[39m.\u001b[39;49mconnect(sa)\n\u001b[1;32m     86\u001b[0m \u001b[39mreturn\u001b[39;00m sock\n",
      "\u001b[0;31mConnectionRefusedError\u001b[0m: [Errno 111] Connection refused",
      "\nDuring handling of the above exception, another exception occurred:\n",
      "\u001b[0;31mNewConnectionError\u001b[0m                        Traceback (most recent call last)",
      "File \u001b[0;32m~/miniconda3/envs/py310/lib/python3.10/site-packages/elasticsearch/connection/http_urllib3.py:255\u001b[0m, in \u001b[0;36mUrllib3HttpConnection.perform_request\u001b[0;34m(self, method, url, params, body, timeout, ignore, headers)\u001b[0m\n\u001b[1;32m    253\u001b[0m     request_headers[\u001b[39m\"\u001b[39m\u001b[39mcontent-encoding\u001b[39m\u001b[39m\"\u001b[39m] \u001b[39m=\u001b[39m \u001b[39m\"\u001b[39m\u001b[39mgzip\u001b[39m\u001b[39m\"\u001b[39m\n\u001b[0;32m--> 255\u001b[0m response \u001b[39m=\u001b[39m \u001b[39mself\u001b[39;49m\u001b[39m.\u001b[39;49mpool\u001b[39m.\u001b[39;49murlopen(\n\u001b[1;32m    256\u001b[0m     method, url, body, retries\u001b[39m=\u001b[39;49mRetry(\u001b[39mFalse\u001b[39;49;00m), headers\u001b[39m=\u001b[39;49mrequest_headers, \u001b[39m*\u001b[39;49m\u001b[39m*\u001b[39;49mkw\n\u001b[1;32m    257\u001b[0m )\n\u001b[1;32m    258\u001b[0m response_headers \u001b[39m=\u001b[39m {\n\u001b[1;32m    259\u001b[0m     header\u001b[39m.\u001b[39mlower(): value \u001b[39mfor\u001b[39;00m header, value \u001b[39min\u001b[39;00m response\u001b[39m.\u001b[39mheaders\u001b[39m.\u001b[39mitems()\n\u001b[1;32m    260\u001b[0m }\n",
      "File \u001b[0;32m~/miniconda3/envs/py310/lib/python3.10/site-packages/urllib3/connectionpool.py:798\u001b[0m, in \u001b[0;36mHTTPConnectionPool.urlopen\u001b[0;34m(self, method, url, body, headers, retries, redirect, assert_same_host, timeout, pool_timeout, release_conn, chunked, body_pos, **response_kw)\u001b[0m\n\u001b[1;32m    796\u001b[0m     e \u001b[39m=\u001b[39m ProtocolError(\u001b[39m\"\u001b[39m\u001b[39mConnection aborted.\u001b[39m\u001b[39m\"\u001b[39m, e)\n\u001b[0;32m--> 798\u001b[0m retries \u001b[39m=\u001b[39m retries\u001b[39m.\u001b[39;49mincrement(\n\u001b[1;32m    799\u001b[0m     method, url, error\u001b[39m=\u001b[39;49me, _pool\u001b[39m=\u001b[39;49m\u001b[39mself\u001b[39;49m, _stacktrace\u001b[39m=\u001b[39;49msys\u001b[39m.\u001b[39;49mexc_info()[\u001b[39m2\u001b[39;49m]\n\u001b[1;32m    800\u001b[0m )\n\u001b[1;32m    801\u001b[0m retries\u001b[39m.\u001b[39msleep()\n",
      "File \u001b[0;32m~/miniconda3/envs/py310/lib/python3.10/site-packages/urllib3/util/retry.py:525\u001b[0m, in \u001b[0;36mRetry.increment\u001b[0;34m(self, method, url, response, error, _pool, _stacktrace)\u001b[0m\n\u001b[1;32m    523\u001b[0m \u001b[39mif\u001b[39;00m \u001b[39mself\u001b[39m\u001b[39m.\u001b[39mtotal \u001b[39mis\u001b[39;00m \u001b[39mFalse\u001b[39;00m \u001b[39mand\u001b[39;00m error:\n\u001b[1;32m    524\u001b[0m     \u001b[39m# Disabled, indicate to re-raise the error.\u001b[39;00m\n\u001b[0;32m--> 525\u001b[0m     \u001b[39mraise\u001b[39;00m six\u001b[39m.\u001b[39;49mreraise(\u001b[39mtype\u001b[39;49m(error), error, _stacktrace)\n\u001b[1;32m    527\u001b[0m total \u001b[39m=\u001b[39m \u001b[39mself\u001b[39m\u001b[39m.\u001b[39mtotal\n",
      "File \u001b[0;32m~/miniconda3/envs/py310/lib/python3.10/site-packages/urllib3/packages/six.py:770\u001b[0m, in \u001b[0;36mreraise\u001b[0;34m(tp, value, tb)\u001b[0m\n\u001b[1;32m    769\u001b[0m         \u001b[39mraise\u001b[39;00m value\u001b[39m.\u001b[39mwith_traceback(tb)\n\u001b[0;32m--> 770\u001b[0m     \u001b[39mraise\u001b[39;00m value\n\u001b[1;32m    771\u001b[0m \u001b[39mfinally\u001b[39;00m:\n",
      "File \u001b[0;32m~/miniconda3/envs/py310/lib/python3.10/site-packages/urllib3/connectionpool.py:714\u001b[0m, in \u001b[0;36mHTTPConnectionPool.urlopen\u001b[0;34m(self, method, url, body, headers, retries, redirect, assert_same_host, timeout, pool_timeout, release_conn, chunked, body_pos, **response_kw)\u001b[0m\n\u001b[1;32m    713\u001b[0m \u001b[39m# Make the request on the httplib connection object.\u001b[39;00m\n\u001b[0;32m--> 714\u001b[0m httplib_response \u001b[39m=\u001b[39m \u001b[39mself\u001b[39;49m\u001b[39m.\u001b[39;49m_make_request(\n\u001b[1;32m    715\u001b[0m     conn,\n\u001b[1;32m    716\u001b[0m     method,\n\u001b[1;32m    717\u001b[0m     url,\n\u001b[1;32m    718\u001b[0m     timeout\u001b[39m=\u001b[39;49mtimeout_obj,\n\u001b[1;32m    719\u001b[0m     body\u001b[39m=\u001b[39;49mbody,\n\u001b[1;32m    720\u001b[0m     headers\u001b[39m=\u001b[39;49mheaders,\n\u001b[1;32m    721\u001b[0m     chunked\u001b[39m=\u001b[39;49mchunked,\n\u001b[1;32m    722\u001b[0m )\n\u001b[1;32m    724\u001b[0m \u001b[39m# If we're going to release the connection in ``finally:``, then\u001b[39;00m\n\u001b[1;32m    725\u001b[0m \u001b[39m# the response doesn't need to know about the connection. Otherwise\u001b[39;00m\n\u001b[1;32m    726\u001b[0m \u001b[39m# it will also try to release it and we'll have a double-release\u001b[39;00m\n\u001b[1;32m    727\u001b[0m \u001b[39m# mess.\u001b[39;00m\n",
      "File \u001b[0;32m~/miniconda3/envs/py310/lib/python3.10/site-packages/urllib3/connectionpool.py:415\u001b[0m, in \u001b[0;36mHTTPConnectionPool._make_request\u001b[0;34m(self, conn, method, url, timeout, chunked, **httplib_request_kw)\u001b[0m\n\u001b[1;32m    414\u001b[0m     \u001b[39melse\u001b[39;00m:\n\u001b[0;32m--> 415\u001b[0m         conn\u001b[39m.\u001b[39;49mrequest(method, url, \u001b[39m*\u001b[39;49m\u001b[39m*\u001b[39;49mhttplib_request_kw)\n\u001b[1;32m    417\u001b[0m \u001b[39m# We are swallowing BrokenPipeError (errno.EPIPE) since the server is\u001b[39;00m\n\u001b[1;32m    418\u001b[0m \u001b[39m# legitimately able to close the connection after sending a valid response.\u001b[39;00m\n\u001b[1;32m    419\u001b[0m \u001b[39m# With this behaviour, the received response is still readable.\u001b[39;00m\n",
      "File \u001b[0;32m~/miniconda3/envs/py310/lib/python3.10/site-packages/urllib3/connection.py:244\u001b[0m, in \u001b[0;36mHTTPConnection.request\u001b[0;34m(self, method, url, body, headers)\u001b[0m\n\u001b[1;32m    243\u001b[0m     headers[\u001b[39m\"\u001b[39m\u001b[39mUser-Agent\u001b[39m\u001b[39m\"\u001b[39m] \u001b[39m=\u001b[39m _get_default_user_agent()\n\u001b[0;32m--> 244\u001b[0m \u001b[39msuper\u001b[39;49m(HTTPConnection, \u001b[39mself\u001b[39;49m)\u001b[39m.\u001b[39;49mrequest(method, url, body\u001b[39m=\u001b[39;49mbody, headers\u001b[39m=\u001b[39;49mheaders)\n",
      "File \u001b[0;32m~/miniconda3/envs/py310/lib/python3.10/http/client.py:1283\u001b[0m, in \u001b[0;36mHTTPConnection.request\u001b[0;34m(self, method, url, body, headers, encode_chunked)\u001b[0m\n\u001b[1;32m   1282\u001b[0m \u001b[39m\u001b[39m\u001b[39m\"\"\"Send a complete request to the server.\"\"\"\u001b[39;00m\n\u001b[0;32m-> 1283\u001b[0m \u001b[39mself\u001b[39;49m\u001b[39m.\u001b[39;49m_send_request(method, url, body, headers, encode_chunked)\n",
      "File \u001b[0;32m~/miniconda3/envs/py310/lib/python3.10/http/client.py:1329\u001b[0m, in \u001b[0;36mHTTPConnection._send_request\u001b[0;34m(self, method, url, body, headers, encode_chunked)\u001b[0m\n\u001b[1;32m   1328\u001b[0m     body \u001b[39m=\u001b[39m _encode(body, \u001b[39m'\u001b[39m\u001b[39mbody\u001b[39m\u001b[39m'\u001b[39m)\n\u001b[0;32m-> 1329\u001b[0m \u001b[39mself\u001b[39;49m\u001b[39m.\u001b[39;49mendheaders(body, encode_chunked\u001b[39m=\u001b[39;49mencode_chunked)\n",
      "File \u001b[0;32m~/miniconda3/envs/py310/lib/python3.10/http/client.py:1278\u001b[0m, in \u001b[0;36mHTTPConnection.endheaders\u001b[0;34m(self, message_body, encode_chunked)\u001b[0m\n\u001b[1;32m   1277\u001b[0m     \u001b[39mraise\u001b[39;00m CannotSendHeader()\n\u001b[0;32m-> 1278\u001b[0m \u001b[39mself\u001b[39;49m\u001b[39m.\u001b[39;49m_send_output(message_body, encode_chunked\u001b[39m=\u001b[39;49mencode_chunked)\n",
      "File \u001b[0;32m~/miniconda3/envs/py310/lib/python3.10/http/client.py:1038\u001b[0m, in \u001b[0;36mHTTPConnection._send_output\u001b[0;34m(self, message_body, encode_chunked)\u001b[0m\n\u001b[1;32m   1037\u001b[0m \u001b[39mdel\u001b[39;00m \u001b[39mself\u001b[39m\u001b[39m.\u001b[39m_buffer[:]\n\u001b[0;32m-> 1038\u001b[0m \u001b[39mself\u001b[39;49m\u001b[39m.\u001b[39;49msend(msg)\n\u001b[1;32m   1040\u001b[0m \u001b[39mif\u001b[39;00m message_body \u001b[39mis\u001b[39;00m \u001b[39mnot\u001b[39;00m \u001b[39mNone\u001b[39;00m:\n\u001b[1;32m   1041\u001b[0m \n\u001b[1;32m   1042\u001b[0m     \u001b[39m# create a consistent interface to message_body\u001b[39;00m\n",
      "File \u001b[0;32m~/miniconda3/envs/py310/lib/python3.10/http/client.py:976\u001b[0m, in \u001b[0;36mHTTPConnection.send\u001b[0;34m(self, data)\u001b[0m\n\u001b[1;32m    975\u001b[0m \u001b[39mif\u001b[39;00m \u001b[39mself\u001b[39m\u001b[39m.\u001b[39mauto_open:\n\u001b[0;32m--> 976\u001b[0m     \u001b[39mself\u001b[39;49m\u001b[39m.\u001b[39;49mconnect()\n\u001b[1;32m    977\u001b[0m \u001b[39melse\u001b[39;00m:\n",
      "File \u001b[0;32m~/miniconda3/envs/py310/lib/python3.10/site-packages/urllib3/connection.py:205\u001b[0m, in \u001b[0;36mHTTPConnection.connect\u001b[0;34m(self)\u001b[0m\n\u001b[1;32m    204\u001b[0m \u001b[39mdef\u001b[39;00m \u001b[39mconnect\u001b[39m(\u001b[39mself\u001b[39m):\n\u001b[0;32m--> 205\u001b[0m     conn \u001b[39m=\u001b[39m \u001b[39mself\u001b[39;49m\u001b[39m.\u001b[39;49m_new_conn()\n\u001b[1;32m    206\u001b[0m     \u001b[39mself\u001b[39m\u001b[39m.\u001b[39m_prepare_conn(conn)\n",
      "File \u001b[0;32m~/miniconda3/envs/py310/lib/python3.10/site-packages/urllib3/connection.py:186\u001b[0m, in \u001b[0;36mHTTPConnection._new_conn\u001b[0;34m(self)\u001b[0m\n\u001b[1;32m    185\u001b[0m \u001b[39mexcept\u001b[39;00m SocketError \u001b[39mas\u001b[39;00m e:\n\u001b[0;32m--> 186\u001b[0m     \u001b[39mraise\u001b[39;00m NewConnectionError(\n\u001b[1;32m    187\u001b[0m         \u001b[39mself\u001b[39m, \u001b[39m\"\u001b[39m\u001b[39mFailed to establish a new connection: \u001b[39m\u001b[39m%s\u001b[39;00m\u001b[39m\"\u001b[39m \u001b[39m%\u001b[39m e\n\u001b[1;32m    188\u001b[0m     )\n\u001b[1;32m    190\u001b[0m \u001b[39mreturn\u001b[39;00m conn\n",
      "\u001b[0;31mNewConnectionError\u001b[0m: <urllib3.connection.HTTPConnection object at 0x7fa37278b520>: Failed to establish a new connection: [Errno 111] Connection refused",
      "\nDuring handling of the above exception, another exception occurred:\n",
      "\u001b[0;31mConnectionError\u001b[0m                           Traceback (most recent call last)",
      "File \u001b[0;32m~/miniconda3/envs/py310/lib/python3.10/site-packages/haystack/pipelines/base.py:556\u001b[0m, in \u001b[0;36mPipeline.run\u001b[0;34m(self, query, file_paths, labels, documents, meta, params, debug)\u001b[0m\n\u001b[1;32m    555\u001b[0m start \u001b[39m=\u001b[39m time()\n\u001b[0;32m--> 556\u001b[0m node_output, stream_id \u001b[39m=\u001b[39m \u001b[39mself\u001b[39;49m\u001b[39m.\u001b[39;49m_run_node(node_id, node_input)\n\u001b[1;32m    557\u001b[0m \u001b[39mif\u001b[39;00m \u001b[39m\"\u001b[39m\u001b[39m_debug\u001b[39m\u001b[39m\"\u001b[39m \u001b[39min\u001b[39;00m node_output \u001b[39mand\u001b[39;00m node_id \u001b[39min\u001b[39;00m node_output[\u001b[39m\"\u001b[39m\u001b[39m_debug\u001b[39m\u001b[39m\"\u001b[39m]:\n",
      "File \u001b[0;32m~/miniconda3/envs/py310/lib/python3.10/site-packages/haystack/pipelines/base.py:469\u001b[0m, in \u001b[0;36mPipeline._run_node\u001b[0;34m(self, node_id, node_input)\u001b[0m\n\u001b[1;32m    468\u001b[0m \u001b[39mdef\u001b[39;00m \u001b[39m_run_node\u001b[39m(\u001b[39mself\u001b[39m, node_id: \u001b[39mstr\u001b[39m, node_input: Dict[\u001b[39mstr\u001b[39m, Any]) \u001b[39m-\u001b[39m\u001b[39m>\u001b[39m Tuple[Dict, \u001b[39mstr\u001b[39m]:\n\u001b[0;32m--> 469\u001b[0m     \u001b[39mreturn\u001b[39;00m \u001b[39mself\u001b[39;49m\u001b[39m.\u001b[39;49mgraph\u001b[39m.\u001b[39;49mnodes[node_id][\u001b[39m\"\u001b[39;49m\u001b[39mcomponent\u001b[39;49m\u001b[39m\"\u001b[39;49m]\u001b[39m.\u001b[39;49m_dispatch_run(\u001b[39m*\u001b[39;49m\u001b[39m*\u001b[39;49mnode_input)\n",
      "File \u001b[0;32m~/miniconda3/envs/py310/lib/python3.10/site-packages/haystack/nodes/base.py:201\u001b[0m, in \u001b[0;36mBaseComponent._dispatch_run\u001b[0;34m(self, **kwargs)\u001b[0m\n\u001b[1;32m    197\u001b[0m \u001b[39m\u001b[39m\u001b[39m\"\"\"\u001b[39;00m\n\u001b[1;32m    198\u001b[0m \u001b[39mThe Pipelines call this method when run() is executed. This method in turn executes the _dispatch_run_general()\u001b[39;00m\n\u001b[1;32m    199\u001b[0m \u001b[39mmethod with the correct run method.\u001b[39;00m\n\u001b[1;32m    200\u001b[0m \u001b[39m\"\"\"\u001b[39;00m\n\u001b[0;32m--> 201\u001b[0m \u001b[39mreturn\u001b[39;00m \u001b[39mself\u001b[39;49m\u001b[39m.\u001b[39;49m_dispatch_run_general(\u001b[39mself\u001b[39;49m\u001b[39m.\u001b[39;49mrun, \u001b[39m*\u001b[39;49m\u001b[39m*\u001b[39;49mkwargs)\n",
      "File \u001b[0;32m~/miniconda3/envs/py310/lib/python3.10/site-packages/haystack/nodes/base.py:245\u001b[0m, in \u001b[0;36mBaseComponent._dispatch_run_general\u001b[0;34m(self, run_method, **kwargs)\u001b[0m\n\u001b[1;32m    243\u001b[0m         run_inputs[key] \u001b[39m=\u001b[39m value\n\u001b[0;32m--> 245\u001b[0m output, stream \u001b[39m=\u001b[39m run_method(\u001b[39m*\u001b[39;49m\u001b[39m*\u001b[39;49mrun_inputs, \u001b[39m*\u001b[39;49m\u001b[39m*\u001b[39;49mrun_params)\n\u001b[1;32m    247\u001b[0m \u001b[39m# Collect debug information\u001b[39;00m\n",
      "File \u001b[0;32m~/miniconda3/envs/py310/lib/python3.10/site-packages/haystack/nodes/retriever/base.py:263\u001b[0m, in \u001b[0;36mBaseRetriever.run\u001b[0;34m(self, root_node, query, filters, top_k, documents, index, headers, scale_score)\u001b[0m\n\u001b[1;32m    262\u001b[0m     run_query_timed \u001b[39m=\u001b[39m \u001b[39mself\u001b[39m\u001b[39m.\u001b[39mtiming(\u001b[39mself\u001b[39m\u001b[39m.\u001b[39mrun_query, \u001b[39m\"\u001b[39m\u001b[39mquery_time\u001b[39m\u001b[39m\"\u001b[39m)\n\u001b[0;32m--> 263\u001b[0m     output, stream \u001b[39m=\u001b[39m run_query_timed(\n\u001b[1;32m    264\u001b[0m         query\u001b[39m=\u001b[39;49mquery, filters\u001b[39m=\u001b[39;49mfilters, top_k\u001b[39m=\u001b[39;49mtop_k, index\u001b[39m=\u001b[39;49mindex, headers\u001b[39m=\u001b[39;49mheaders, scale_score\u001b[39m=\u001b[39;49mscale_score\n\u001b[1;32m    265\u001b[0m     )\n\u001b[1;32m    266\u001b[0m \u001b[39melif\u001b[39;00m root_node \u001b[39m==\u001b[39m \u001b[39m\"\u001b[39m\u001b[39mFile\u001b[39m\u001b[39m\"\u001b[39m:\n",
      "File \u001b[0;32m~/miniconda3/envs/py310/lib/python3.10/site-packages/haystack/nodes/retriever/base.py:82\u001b[0m, in \u001b[0;36mBaseRetriever.timing.<locals>.wrapper\u001b[0;34m(*args, **kwargs)\u001b[0m\n\u001b[1;32m     81\u001b[0m tic \u001b[39m=\u001b[39m perf_counter()\n\u001b[0;32m---> 82\u001b[0m ret \u001b[39m=\u001b[39m fn(\u001b[39m*\u001b[39;49margs, \u001b[39m*\u001b[39;49m\u001b[39m*\u001b[39;49mkwargs)\n\u001b[1;32m     83\u001b[0m toc \u001b[39m=\u001b[39m perf_counter()\n",
      "File \u001b[0;32m~/miniconda3/envs/py310/lib/python3.10/site-packages/haystack/nodes/retriever/base.py:317\u001b[0m, in \u001b[0;36mBaseRetriever.run_query\u001b[0;34m(self, query, filters, top_k, index, headers, scale_score)\u001b[0m\n\u001b[1;32m    308\u001b[0m \u001b[39mdef\u001b[39;00m \u001b[39mrun_query\u001b[39m(\n\u001b[1;32m    309\u001b[0m     \u001b[39mself\u001b[39m,\n\u001b[1;32m    310\u001b[0m     query: \u001b[39mstr\u001b[39m,\n\u001b[0;32m   (...)\u001b[0m\n\u001b[1;32m    315\u001b[0m     scale_score: Optional[\u001b[39mbool\u001b[39m] \u001b[39m=\u001b[39m \u001b[39mNone\u001b[39;00m,\n\u001b[1;32m    316\u001b[0m ):\n\u001b[0;32m--> 317\u001b[0m     documents \u001b[39m=\u001b[39m \u001b[39mself\u001b[39;49m\u001b[39m.\u001b[39;49mretrieve(\n\u001b[1;32m    318\u001b[0m         query\u001b[39m=\u001b[39;49mquery, filters\u001b[39m=\u001b[39;49mfilters, top_k\u001b[39m=\u001b[39;49mtop_k, index\u001b[39m=\u001b[39;49mindex, headers\u001b[39m=\u001b[39;49mheaders, scale_score\u001b[39m=\u001b[39;49mscale_score\n\u001b[1;32m    319\u001b[0m     )\n\u001b[1;32m    320\u001b[0m     document_ids \u001b[39m=\u001b[39m [doc\u001b[39m.\u001b[39mid \u001b[39mfor\u001b[39;00m doc \u001b[39min\u001b[39;00m documents]\n",
      "File \u001b[0;32m~/miniconda3/envs/py310/lib/python3.10/site-packages/haystack/nodes/retriever/dense.py:1688\u001b[0m, in \u001b[0;36mEmbeddingRetriever.retrieve\u001b[0;34m(self, query, filters, top_k, index, headers, scale_score, document_store)\u001b[0m\n\u001b[1;32m   1687\u001b[0m query_emb \u001b[39m=\u001b[39m \u001b[39mself\u001b[39m\u001b[39m.\u001b[39membed_queries(queries\u001b[39m=\u001b[39m[query])\n\u001b[0;32m-> 1688\u001b[0m documents \u001b[39m=\u001b[39m document_store\u001b[39m.\u001b[39;49mquery_by_embedding(\n\u001b[1;32m   1689\u001b[0m     query_emb\u001b[39m=\u001b[39;49mquery_emb[\u001b[39m0\u001b[39;49m], filters\u001b[39m=\u001b[39;49mfilters, top_k\u001b[39m=\u001b[39;49mtop_k, index\u001b[39m=\u001b[39;49mindex, headers\u001b[39m=\u001b[39;49mheaders, scale_score\u001b[39m=\u001b[39;49mscale_score\n\u001b[1;32m   1690\u001b[0m )\n\u001b[1;32m   1691\u001b[0m \u001b[39mreturn\u001b[39;00m documents\n",
      "File \u001b[0;32m~/miniconda3/envs/py310/lib/python3.10/site-packages/haystack/document_stores/elasticsearch/base.py:134\u001b[0m, in \u001b[0;36m_ElasticsearchDocumentStore.query_by_embedding\u001b[0;34m(self, query_emb, filters, top_k, index, return_embedding, headers, scale_score)\u001b[0m\n\u001b[1;32m    133\u001b[0m         \u001b[39mraise\u001b[39;00m \u001b[39mself\u001b[39m\u001b[39m.\u001b[39m_RequestError(e\u001b[39m.\u001b[39mstatus_code, error_message, e\u001b[39m.\u001b[39minfo)\n\u001b[0;32m--> 134\u001b[0m     \u001b[39mraise\u001b[39;00m e\n\u001b[1;32m    136\u001b[0m documents \u001b[39m=\u001b[39m [\n\u001b[1;32m    137\u001b[0m     \u001b[39mself\u001b[39m\u001b[39m.\u001b[39m_convert_es_hit_to_document(hit, adapt_score_for_embedding\u001b[39m=\u001b[39m\u001b[39mTrue\u001b[39;00m, scale_score\u001b[39m=\u001b[39mscale_score)\n\u001b[1;32m    138\u001b[0m     \u001b[39mfor\u001b[39;00m hit \u001b[39min\u001b[39;00m result\n\u001b[1;32m    139\u001b[0m ]\n",
      "File \u001b[0;32m~/miniconda3/envs/py310/lib/python3.10/site-packages/haystack/document_stores/elasticsearch/base.py:119\u001b[0m, in \u001b[0;36m_ElasticsearchDocumentStore.query_by_embedding\u001b[0;34m(self, query_emb, filters, top_k, index, return_embedding, headers, scale_score)\u001b[0m\n\u001b[1;32m    118\u001b[0m \u001b[39mtry\u001b[39;00m:\n\u001b[0;32m--> 119\u001b[0m     result \u001b[39m=\u001b[39m \u001b[39mself\u001b[39;49m\u001b[39m.\u001b[39;49m_search(index\u001b[39m=\u001b[39;49mindex, \u001b[39m*\u001b[39;49m\u001b[39m*\u001b[39;49mbody, headers\u001b[39m=\u001b[39;49mheaders)[\u001b[39m\"\u001b[39m\u001b[39mhits\u001b[39m\u001b[39m\"\u001b[39m][\u001b[39m\"\u001b[39m\u001b[39mhits\u001b[39m\u001b[39m\"\u001b[39m]\n\u001b[1;32m    120\u001b[0m     \u001b[39mif\u001b[39;00m \u001b[39mlen\u001b[39m(result) \u001b[39m==\u001b[39m \u001b[39m0\u001b[39m:\n",
      "File \u001b[0;32m~/miniconda3/envs/py310/lib/python3.10/site-packages/haystack/document_stores/search_engine.py:1658\u001b[0m, in \u001b[0;36mSearchEngineDocumentStore._search\u001b[0;34m(self, *args, **kwargs)\u001b[0m\n\u001b[1;32m   1657\u001b[0m \u001b[39mdef\u001b[39;00m \u001b[39m_search\u001b[39m(\u001b[39mself\u001b[39m, \u001b[39m*\u001b[39margs, \u001b[39m*\u001b[39m\u001b[39m*\u001b[39mkwargs):\n\u001b[0;32m-> 1658\u001b[0m     \u001b[39mreturn\u001b[39;00m \u001b[39mself\u001b[39;49m\u001b[39m.\u001b[39;49mclient\u001b[39m.\u001b[39;49msearch(\u001b[39m*\u001b[39;49margs, \u001b[39m*\u001b[39;49m\u001b[39m*\u001b[39;49mkwargs)\n",
      "File \u001b[0;32m~/miniconda3/envs/py310/lib/python3.10/site-packages/elasticsearch/client/utils.py:347\u001b[0m, in \u001b[0;36mquery_params.<locals>._wrapper.<locals>._wrapped\u001b[0;34m(*args, **kwargs)\u001b[0m\n\u001b[1;32m    346\u001b[0m         params[p] \u001b[39m=\u001b[39m kwargs\u001b[39m.\u001b[39mpop(p)\n\u001b[0;32m--> 347\u001b[0m \u001b[39mreturn\u001b[39;00m func(\u001b[39m*\u001b[39;49margs, params\u001b[39m=\u001b[39;49mparams, headers\u001b[39m=\u001b[39;49mheaders, \u001b[39m*\u001b[39;49m\u001b[39m*\u001b[39;49mkwargs)\n",
      "File \u001b[0;32m~/miniconda3/envs/py310/lib/python3.10/site-packages/elasticsearch/client/__init__.py:1821\u001b[0m, in \u001b[0;36mElasticsearch.search\u001b[0;34m(self, body, index, doc_type, params, headers)\u001b[0m\n\u001b[1;32m   1819\u001b[0m     params[\u001b[39m\"\u001b[39m\u001b[39mfrom\u001b[39m\u001b[39m\"\u001b[39m] \u001b[39m=\u001b[39m params\u001b[39m.\u001b[39mpop(\u001b[39m\"\u001b[39m\u001b[39mfrom_\u001b[39m\u001b[39m\"\u001b[39m)\n\u001b[0;32m-> 1821\u001b[0m \u001b[39mreturn\u001b[39;00m \u001b[39mself\u001b[39;49m\u001b[39m.\u001b[39;49mtransport\u001b[39m.\u001b[39;49mperform_request(\n\u001b[1;32m   1822\u001b[0m     \u001b[39m\"\u001b[39;49m\u001b[39mPOST\u001b[39;49m\u001b[39m\"\u001b[39;49m,\n\u001b[1;32m   1823\u001b[0m     _make_path(index, doc_type, \u001b[39m\"\u001b[39;49m\u001b[39m_search\u001b[39;49m\u001b[39m\"\u001b[39;49m),\n\u001b[1;32m   1824\u001b[0m     params\u001b[39m=\u001b[39;49mparams,\n\u001b[1;32m   1825\u001b[0m     headers\u001b[39m=\u001b[39;49mheaders,\n\u001b[1;32m   1826\u001b[0m     body\u001b[39m=\u001b[39;49mbody,\n\u001b[1;32m   1827\u001b[0m )\n",
      "File \u001b[0;32m~/miniconda3/envs/py310/lib/python3.10/site-packages/elasticsearch/transport.py:464\u001b[0m, in \u001b[0;36mTransport.perform_request\u001b[0;34m(self, method, url, headers, params, body)\u001b[0m\n\u001b[1;32m    463\u001b[0m     \u001b[39mif\u001b[39;00m attempt \u001b[39m==\u001b[39m \u001b[39mself\u001b[39m\u001b[39m.\u001b[39mmax_retries:\n\u001b[0;32m--> 464\u001b[0m         \u001b[39mraise\u001b[39;00m e\n\u001b[1;32m    465\u001b[0m \u001b[39melse\u001b[39;00m:\n",
      "File \u001b[0;32m~/miniconda3/envs/py310/lib/python3.10/site-packages/elasticsearch/transport.py:427\u001b[0m, in \u001b[0;36mTransport.perform_request\u001b[0;34m(self, method, url, headers, params, body)\u001b[0m\n\u001b[1;32m    426\u001b[0m \u001b[39mtry\u001b[39;00m:\n\u001b[0;32m--> 427\u001b[0m     status, headers_response, data \u001b[39m=\u001b[39m connection\u001b[39m.\u001b[39;49mperform_request(\n\u001b[1;32m    428\u001b[0m         method,\n\u001b[1;32m    429\u001b[0m         url,\n\u001b[1;32m    430\u001b[0m         params,\n\u001b[1;32m    431\u001b[0m         body,\n\u001b[1;32m    432\u001b[0m         headers\u001b[39m=\u001b[39;49mheaders,\n\u001b[1;32m    433\u001b[0m         ignore\u001b[39m=\u001b[39;49mignore,\n\u001b[1;32m    434\u001b[0m         timeout\u001b[39m=\u001b[39;49mtimeout,\n\u001b[1;32m    435\u001b[0m     )\n\u001b[1;32m    437\u001b[0m     \u001b[39m# Lowercase all the header names for consistency in accessing them.\u001b[39;00m\n",
      "File \u001b[0;32m~/miniconda3/envs/py310/lib/python3.10/site-packages/elasticsearch/connection/http_urllib3.py:280\u001b[0m, in \u001b[0;36mUrllib3HttpConnection.perform_request\u001b[0;34m(self, method, url, params, body, timeout, ignore, headers)\u001b[0m\n\u001b[1;32m    279\u001b[0m         \u001b[39mraise\u001b[39;00m ConnectionTimeout(\u001b[39m\"\u001b[39m\u001b[39mTIMEOUT\u001b[39m\u001b[39m\"\u001b[39m, \u001b[39mstr\u001b[39m(e), e)\n\u001b[0;32m--> 280\u001b[0m     \u001b[39mraise\u001b[39;00m \u001b[39mConnectionError\u001b[39;00m(\u001b[39m\"\u001b[39m\u001b[39mN/A\u001b[39m\u001b[39m\"\u001b[39m, \u001b[39mstr\u001b[39m(e), e)\n\u001b[1;32m    282\u001b[0m \u001b[39m# raise warnings if any from the 'Warnings' header.\u001b[39;00m\n",
      "\u001b[0;31mConnectionError\u001b[0m: ConnectionError(<urllib3.connection.HTTPConnection object at 0x7fa37278b520>: Failed to establish a new connection: [Errno 111] Connection refused) caused by: NewConnectionError(<urllib3.connection.HTTPConnection object at 0x7fa37278b520>: Failed to establish a new connection: [Errno 111] Connection refused)",
      "\nThe above exception was the direct cause of the following exception:\n",
      "\u001b[0;31mException\u001b[0m                                 Traceback (most recent call last)",
      "Cell \u001b[0;32mIn[25], line 2\u001b[0m\n\u001b[1;32m      1\u001b[0m \u001b[39m# Example query whose answer resides in a text passage\u001b[39;00m\n\u001b[0;32m----> 2\u001b[0m predictions \u001b[39m=\u001b[39m text_table_qa_pipeline\u001b[39m.\u001b[39;49mrun(query\u001b[39m=\u001b[39;49m\u001b[39m\"\u001b[39;49m\u001b[39mWho was Thomas Alva Edison?\u001b[39;49m\u001b[39m\"\u001b[39;49m)\n\u001b[1;32m      3\u001b[0m \u001b[39m# We can see both text passages and tables as contexts of the predicted answers.\u001b[39;00m\n\u001b[1;32m      4\u001b[0m print_answers(predictions, details\u001b[39m=\u001b[39m\u001b[39m\"\u001b[39m\u001b[39mminimum\u001b[39m\u001b[39m\"\u001b[39m)\n",
      "File \u001b[0;32m~/miniconda3/envs/py310/lib/python3.10/site-packages/haystack/pipelines/base.py:563\u001b[0m, in \u001b[0;36mPipeline.run\u001b[0;34m(self, query, file_paths, labels, documents, meta, params, debug)\u001b[0m\n\u001b[1;32m    559\u001b[0m \u001b[39mexcept\u001b[39;00m \u001b[39mException\u001b[39;00m \u001b[39mas\u001b[39;00m e:\n\u001b[1;32m    560\u001b[0m     \u001b[39m# The input might be a really large object with thousands of embeddings.\u001b[39;00m\n\u001b[1;32m    561\u001b[0m     \u001b[39m# If you really want to see it, raise the log level.\u001b[39;00m\n\u001b[1;32m    562\u001b[0m     logger\u001b[39m.\u001b[39mdebug(\u001b[39m\"\u001b[39m\u001b[39mException while running node \u001b[39m\u001b[39m'\u001b[39m\u001b[39m%s\u001b[39;00m\u001b[39m'\u001b[39m\u001b[39m with input \u001b[39m\u001b[39m%s\u001b[39;00m\u001b[39m\"\u001b[39m, node_id, node_input)\n\u001b[0;32m--> 563\u001b[0m     \u001b[39mraise\u001b[39;00m \u001b[39mException\u001b[39;00m(\n\u001b[1;32m    564\u001b[0m         \u001b[39mf\u001b[39m\u001b[39m\"\u001b[39m\u001b[39mException while running node \u001b[39m\u001b[39m'\u001b[39m\u001b[39m{\u001b[39;00mnode_id\u001b[39m}\u001b[39;00m\u001b[39m'\u001b[39m\u001b[39m: \u001b[39m\u001b[39m{\u001b[39;00me\u001b[39m}\u001b[39;00m\u001b[39m\\n\u001b[39;00m\u001b[39mEnable debug logging to see the data that was passed when the pipeline failed.\u001b[39m\u001b[39m\"\u001b[39m\n\u001b[1;32m    565\u001b[0m     ) \u001b[39mfrom\u001b[39;00m \u001b[39me\u001b[39;00m\n\u001b[1;32m    566\u001b[0m queue\u001b[39m.\u001b[39mpop(node_id)\n\u001b[1;32m    567\u001b[0m \u001b[39m#\u001b[39;00m\n",
      "\u001b[0;31mException\u001b[0m: Exception while running node 'EmbeddingRetriever': ConnectionError(<urllib3.connection.HTTPConnection object at 0x7fa37278b520>: Failed to establish a new connection: [Errno 111] Connection refused) caused by: NewConnectionError(<urllib3.connection.HTTPConnection object at 0x7fa37278b520>: Failed to establish a new connection: [Errno 111] Connection refused)\nEnable debug logging to see the data that was passed when the pipeline failed."
     ]
    },
    {
     "ename": "",
     "evalue": "",
     "output_type": "error",
     "traceback": [
      "\u001b[1;31mThe Kernel crashed while executing code in the the current cell or a previous cell. Please review the code in the cell(s) to identify a possible cause of the failure. Click <a href='https://aka.ms/vscodeJupyterKernelCrash'>here</a> for more info. View Jupyter <a href='command:jupyter.viewOutput'>log</a> for further details."
     ]
    }
   ],
   "source": [
    "# Example query whose answer resides in a text passage\n",
    "predictions = text_table_qa_pipeline.run(query=\"Who was Thomas Alva Edison?\")\n",
    "# We can see both text passages and tables as contexts of the predicted answers.\n",
    "print_answers(predictions, details=\"minimum\")"
   ]
  },
  {
   "cell_type": "code",
   "execution_count": null,
   "metadata": {},
   "outputs": [],
   "source": [
    "# Example query whose answer resides in a table\n",
    "predictions = text_table_qa_pipeline.run(query=\"Which country does the film Macaroni come from?\")\n",
    "# We can see both text passages and tables as contexts of the predicted answers.\n",
    "print_answers(predictions, details=\"minimum\")\n"
   ]
  },
  {
   "cell_type": "code",
   "execution_count": null,
   "metadata": {},
   "outputs": [],
   "source": [
    "from haystack import Label, MultiLabel, Answer\n",
    "\n",
    "def read_labels(filename, tables):\n",
    "    processed_labels = []\n",
    "    with open(filename) as labels:\n",
    "        labels = json.load(labels)\n",
    "        for table in tables:\n",
    "            if table.id not in labels:\n",
    "                continue\n",
    "            label = labels[table.id]\n",
    "            label = Label(\n",
    "                query=label[\"query\"],\n",
    "                document=table,\n",
    "                is_correct_answer=True,\n",
    "                is_correct_document=True,\n",
    "                answer=Answer(answer=label[\"answer\"]),\n",
    "                origin=\"gold-label\",\n",
    "            )\n",
    "            processed_labels.append(MultiLabel(labels=[label]))\n",
    "    return processed_labels\n",
    "\n",
    "\n",
    "table_labels = read_labels(f\"{doc_dir}/labels.json\", tables)\n",
    "passage_labels = read_labels(f\"{doc_dir}/labels.json\", passages)"
   ]
  },
  {
   "cell_type": "code",
   "execution_count": null,
   "metadata": {},
   "outputs": [],
   "source": [
    "eval_results = text_table_qa_pipeline.eval(table_labels + passage_labels, params={\"top_k\": 10})"
   ]
  },
  {
   "cell_type": "code",
   "execution_count": null,
   "metadata": {},
   "outputs": [],
   "source": [
    "# Calculating and printing the evaluation metrics\n",
    "print(eval_results.calculate_metrics())"
   ]
  }
 ],
 "metadata": {
  "kernelspec": {
   "display_name": "py310",
   "language": "python",
   "name": "python3"
  },
  "language_info": {
   "codemirror_mode": {
    "name": "ipython",
    "version": 3
   },
   "file_extension": ".py",
   "mimetype": "text/x-python",
   "name": "python",
   "nbconvert_exporter": "python",
   "pygments_lexer": "ipython3",
   "version": "3.10.12"
  },
  "orig_nbformat": 4
 },
 "nbformat": 4,
 "nbformat_minor": 2
}
