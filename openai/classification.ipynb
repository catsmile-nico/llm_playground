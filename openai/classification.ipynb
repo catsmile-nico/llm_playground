{
 "cells": [
  {
   "cell_type": "markdown",
   "metadata": {},
   "source": [
    "# Classification Example\n",
    "Classify text from customer reviews into categories\n",
    "\n",
    "Reference : https://www.kaggle.com/code/thedrcat/using-llms-to-extract-structured-data/notebook"
   ]
  },
  {
   "cell_type": "code",
   "execution_count": 1,
   "metadata": {},
   "outputs": [],
   "source": [
    "import pandas as pd\n",
    "import tiktoken, json, openai, os\n",
    "\n",
    "from dotenv import load_dotenv\n",
    "load_dotenv()\n",
    "openai.api_key = os.getenv(\"OPENAI_API_KEY\")"
   ]
  },
  {
   "cell_type": "markdown",
   "metadata": {},
   "source": [
    "## Configurables"
   ]
  },
  {
   "cell_type": "code",
   "execution_count": 2,
   "metadata": {},
   "outputs": [],
   "source": [
    "GPT_MODEL = \"gpt-3.5-turbo-0613\"\n",
    "MAX_TOKENS = 1000\n",
    "DATA_FILE = \"./data/fine_food_reviews_1k.csv\"\n",
    "TEXT_COLUMN = \"Text\""
   ]
  },
  {
   "cell_type": "markdown",
   "metadata": {},
   "source": [
    "## Init static variables"
   ]
  },
  {
   "cell_type": "code",
   "execution_count": 3,
   "metadata": {},
   "outputs": [],
   "source": [
    "ENCODING = tiktoken.encoding_for_model(GPT_MODEL)\n",
    "DF = pd.read_csv(DATA_FILE, index_col=False)\n",
    "\n",
    "functions  = [\n",
    "    {\n",
    "        'name': 'CategoryList',\n",
    "        'description': 'Save the list of categories',\n",
    "        'parameters': {\n",
    "            'type': 'object',\n",
    "            'properties': {\n",
    "                'categories': {\n",
    "                    'type': 'array', \n",
    "                    'description': 'List of categories', \n",
    "                    'items': {'type': 'string'}\n",
    "                }\n",
    "            },\n",
    "            'required': ['categories']\n",
    "        }\n",
    "    }\n",
    "]\n",
    "function_call = {\"name\": \"CategoryList\"}\n",
    "\n",
    "system_prompt = \"\"\"You are a data entry staff going through customer messages for an ecommerce website.\n",
    "Your responsibility is to come up with a set of categories that best fit the messages, e.g., feedback, review, complain, etc.\n",
    "Review the text provided by user, and identify the top 3 categories.\n",
    "Call the CategoryList function to save a list of categories that you found in lowercase.\"\"\""
   ]
  },
  {
   "cell_type": "markdown",
   "metadata": {},
   "source": [
    "## Init utility functions"
   ]
  },
  {
   "cell_type": "code",
   "execution_count": 4,
   "metadata": {},
   "outputs": [],
   "source": [
    "def count_tokens(_text):\n",
    "    return len(ENCODING.encode(_text))\n",
    "\n",
    "def limit_tokens(_text):\n",
    "    tokens = ENCODING.encode(_text)\n",
    "    return ENCODING.decode(tokens[:MAX_TOKENS])"
   ]
  },
  {
   "cell_type": "code",
   "execution_count": 6,
   "metadata": {},
   "outputs": [],
   "source": [
    "allmsg = []\n",
    "\n",
    "def chat_request(system_prompt, method_description, functions=None, function_call=None, model=GPT_MODEL):\n",
    "\n",
    "    short_prompt = limit_tokens(method_description) if count_tokens(method_description) > MAX_TOKENS else method_description\n",
    "    print(\"Original Token count:\", count_tokens(method_description),\"Limited Token count:\", count_tokens(short_prompt))\n",
    "\n",
    "    global allmsg\n",
    "    messages = []\n",
    "    messages.append({\"role\": \"system\", \"content\": system_prompt})\n",
    "    messages.append({\"role\": \"user\", \"content\": short_prompt})\n",
    "    allmsg = allmsg + messages\n",
    "\n",
    "    # Call API\n",
    "    response = openai.ChatCompletion.create(\n",
    "        model=model,\n",
    "        messages=messages,\n",
    "        functions=functions,\n",
    "        function_call=function_call,\n",
    "        temperature=0\n",
    "    )\n",
    "    message = response.choices[0].message\n",
    "\n",
    "    # Check function call\n",
    "    if message.get(\"function_call\"):\n",
    "        function_args = response.choices[0].message.function_call.arguments\n",
    "        print(json.loads(function_args).get(\"categories\"))\n",
    "        categories = json.loads(function_args).get(\"categories\")\n",
    "    else:\n",
    "        categories = None\n",
    "\n",
    "    # Save msg\n",
    "    message[\"usage\"] = response.usage\n",
    "    allmsg.append(message)\n",
    "\n",
    "    return categories"
   ]
  },
  {
   "cell_type": "markdown",
   "metadata": {},
   "source": [
    "# Testings"
   ]
  },
  {
   "cell_type": "code",
   "execution_count": 7,
   "metadata": {},
   "outputs": [
    {
     "name": "stdout",
     "output_type": "stream",
     "text": [
      "Original Token count: 69 Limited Token count: 69\n"
     ]
    },
    {
     "name": "stdout",
     "output_type": "stream",
     "text": [
      "['complaint', 'feedback', 'pricing']\n",
      "Original Token count: 92 Limited Token count: 92\n",
      "['Feedback', 'Complaint', 'Review']\n",
      "Original Token count: 101 Limited Token count: 101\n",
      "['feedback', 'review', 'product']\n",
      "Original Token count: 52 Limited Token count: 52\n",
      "['feedback', 'review', 'complaint']\n",
      "Original Token count: 103 Limited Token count: 103\n",
      "['feedback', 'review', 'recommendation']\n"
     ]
    },
    {
     "data": {
      "text/html": [
       "<div>\n",
       "<style scoped>\n",
       "    .dataframe tbody tr th:only-of-type {\n",
       "        vertical-align: middle;\n",
       "    }\n",
       "\n",
       "    .dataframe tbody tr th {\n",
       "        vertical-align: top;\n",
       "    }\n",
       "\n",
       "    .dataframe thead th {\n",
       "        text-align: right;\n",
       "    }\n",
       "</style>\n",
       "<table border=\"1\" class=\"dataframe\">\n",
       "  <thead>\n",
       "    <tr style=\"text-align: right;\">\n",
       "      <th></th>\n",
       "      <th>Id</th>\n",
       "      <th>ProductId</th>\n",
       "      <th>UserId</th>\n",
       "      <th>ProfileName</th>\n",
       "      <th>HelpfulnessNumerator</th>\n",
       "      <th>HelpfulnessDenominator</th>\n",
       "      <th>Score</th>\n",
       "      <th>Time</th>\n",
       "      <th>Summary</th>\n",
       "      <th>Text</th>\n",
       "      <th>categories</th>\n",
       "    </tr>\n",
       "  </thead>\n",
       "  <tbody>\n",
       "    <tr>\n",
       "      <th>2829</th>\n",
       "      <td>2830</td>\n",
       "      <td>B0085G4ACA</td>\n",
       "      <td>A3NUID8RJCDDR9</td>\n",
       "      <td>beechew \"beechew\"</td>\n",
       "      <td>3</td>\n",
       "      <td>4</td>\n",
       "      <td>3</td>\n",
       "      <td>1341792000</td>\n",
       "      <td>Um package change from 17oz to 16.9oz??</td>\n",
       "      <td>I subscribe to this monthly but just got an em...</td>\n",
       "      <td>[complaint, feedback, pricing]</td>\n",
       "    </tr>\n",
       "    <tr>\n",
       "      <th>4118</th>\n",
       "      <td>4119</td>\n",
       "      <td>B001EW5YQS</td>\n",
       "      <td>AYL7IM9DEY22A</td>\n",
       "      <td>EZ Web Man</td>\n",
       "      <td>0</td>\n",
       "      <td>0</td>\n",
       "      <td>4</td>\n",
       "      <td>1339632000</td>\n",
       "      <td>New, inexpensive fix for over priced XLR to US...</td>\n",
       "      <td>Going from the $600 Digidesign Mbox to this $1...</td>\n",
       "      <td>[Feedback, Complaint, Review]</td>\n",
       "    </tr>\n",
       "    <tr>\n",
       "      <th>4042</th>\n",
       "      <td>4043</td>\n",
       "      <td>B000CMHMUC</td>\n",
       "      <td>AFFJQGNCDIZG3</td>\n",
       "      <td>Mr.MurrayKatz</td>\n",
       "      <td>0</td>\n",
       "      <td>0</td>\n",
       "      <td>5</td>\n",
       "      <td>1318809600</td>\n",
       "      <td>Crunchy, no-guilt snack</td>\n",
       "      <td>I am a huge fan of Genisoy Soy Crisps (Deep Se...</td>\n",
       "      <td>[feedback, review, product]</td>\n",
       "    </tr>\n",
       "    <tr>\n",
       "      <th>4548</th>\n",
       "      <td>4549</td>\n",
       "      <td>B002TMV3E4</td>\n",
       "      <td>A3BN3TMY1S9F7C</td>\n",
       "      <td>B. Edwards \"njgam\"</td>\n",
       "      <td>0</td>\n",
       "      <td>2</td>\n",
       "      <td>5</td>\n",
       "      <td>1284422400</td>\n",
       "      <td>decaf coffee</td>\n",
       "      <td>Very smooth and I used my own filters. The sme...</td>\n",
       "      <td>[feedback, review, complaint]</td>\n",
       "    </tr>\n",
       "    <tr>\n",
       "      <th>4169</th>\n",
       "      <td>4170</td>\n",
       "      <td>B004391DK0</td>\n",
       "      <td>A18EX8YOL07UXG</td>\n",
       "      <td>dreamerlrz</td>\n",
       "      <td>0</td>\n",
       "      <td>0</td>\n",
       "      <td>5</td>\n",
       "      <td>1337731200</td>\n",
       "      <td>Yea for GF!</td>\n",
       "      <td>When I found GF Bisquik in the stores, I was h...</td>\n",
       "      <td>[feedback, review, recommendation]</td>\n",
       "    </tr>\n",
       "  </tbody>\n",
       "</table>\n",
       "</div>"
      ],
      "text/plain": [
       "        Id   ProductId          UserId         ProfileName  \\\n",
       "2829  2830  B0085G4ACA  A3NUID8RJCDDR9   beechew \"beechew\"   \n",
       "4118  4119  B001EW5YQS   AYL7IM9DEY22A          EZ Web Man   \n",
       "4042  4043  B000CMHMUC   AFFJQGNCDIZG3       Mr.MurrayKatz   \n",
       "4548  4549  B002TMV3E4  A3BN3TMY1S9F7C  B. Edwards \"njgam\"   \n",
       "4169  4170  B004391DK0  A18EX8YOL07UXG          dreamerlrz   \n",
       "\n",
       "      HelpfulnessNumerator  HelpfulnessDenominator  Score        Time  \\\n",
       "2829                     3                       4      3  1341792000   \n",
       "4118                     0                       0      4  1339632000   \n",
       "4042                     0                       0      5  1318809600   \n",
       "4548                     0                       2      5  1284422400   \n",
       "4169                     0                       0      5  1337731200   \n",
       "\n",
       "                                                Summary  \\\n",
       "2829            Um package change from 17oz to 16.9oz??   \n",
       "4118  New, inexpensive fix for over priced XLR to US...   \n",
       "4042                            Crunchy, no-guilt snack   \n",
       "4548                                       decaf coffee   \n",
       "4169                                        Yea for GF!   \n",
       "\n",
       "                                                   Text  \\\n",
       "2829  I subscribe to this monthly but just got an em...   \n",
       "4118  Going from the $600 Digidesign Mbox to this $1...   \n",
       "4042  I am a huge fan of Genisoy Soy Crisps (Deep Se...   \n",
       "4548  Very smooth and I used my own filters. The sme...   \n",
       "4169  When I found GF Bisquik in the stores, I was h...   \n",
       "\n",
       "                              categories  \n",
       "2829      [complaint, feedback, pricing]  \n",
       "4118       [Feedback, Complaint, Review]  \n",
       "4042         [feedback, review, product]  \n",
       "4548       [feedback, review, complaint]  \n",
       "4169  [feedback, review, recommendation]  "
      ]
     },
     "execution_count": 7,
     "metadata": {},
     "output_type": "execute_result"
    }
   ],
   "source": [
    "test_df = DF.sample(n=5)\n",
    "test_df['categories'] = test_df[TEXT_COLUMN].apply(lambda x: chat_request(system_prompt, x, functions=functions, function_call=function_call))\n",
    "test_df.head()"
   ]
  },
  {
   "cell_type": "code",
   "execution_count": 8,
   "metadata": {},
   "outputs": [
    {
     "data": {
      "text/plain": [
       "Id                                                                     4119\n",
       "ProductId                                                        B001EW5YQS\n",
       "UserId                                                        AYL7IM9DEY22A\n",
       "ProfileName                                                      EZ Web Man\n",
       "HelpfulnessNumerator                                                      0\n",
       "HelpfulnessDenominator                                                    0\n",
       "Score                                                                     4\n",
       "Time                                                             1339632000\n",
       "Summary                   New, inexpensive fix for over priced XLR to US...\n",
       "Text                      Going from the $600 Digidesign Mbox to this $1...\n",
       "categories                                    [Feedback, Complaint, Review]\n",
       "Name: 4118, dtype: object"
      ]
     },
     "execution_count": 8,
     "metadata": {},
     "output_type": "execute_result"
    }
   ],
   "source": [
    "test_df.iloc[1]"
   ]
  },
  {
   "cell_type": "code",
   "execution_count": 9,
   "metadata": {},
   "outputs": [
    {
     "data": {
      "text/plain": [
       "categories\n",
       "feedback          4\n",
       "review            3\n",
       "complaint         2\n",
       "pricing           1\n",
       "Feedback          1\n",
       "Complaint         1\n",
       "Review            1\n",
       "product           1\n",
       "recommendation    1\n",
       "Name: count, dtype: int64"
      ]
     },
     "execution_count": 9,
     "metadata": {},
     "output_type": "execute_result"
    }
   ],
   "source": [
    "categories = test_df.categories.explode().value_counts()\n",
    "categories"
   ]
  },
  {
   "cell_type": "code",
   "execution_count": 10,
   "metadata": {},
   "outputs": [
    {
     "data": {
      "text/plain": [
       "[{'role': 'system',\n",
       "  'content': 'You are a data entry staff going through customer messages for an ecommerce website.\\nYour responsibility is to come up with a set of categories that best fit the messages, e.g., feedback, review, complain, etc.\\nReview the text provided by user, and identify the top 3 categories.\\nCall the CategoryList function to save a list of categories that you found in lowercase.'},\n",
       " {'role': 'user',\n",
       "  'content': \"I subscribe to this monthly but just got an email stating that it's changing from 17 oz. to 16.9 oz. - but no price change?  WOW that's a really lame cut to increase their profit margins.  Whatever I won't miss the .1 oz. obviously but how about messaging and acknowledging your devoted consumers.\"},\n",
       " <OpenAIObject at 0x7f5913adaf20> JSON: {\n",
       "   \"role\": \"assistant\",\n",
       "   \"content\": null,\n",
       "   \"function_call\": {\n",
       "     \"name\": \"CategoryList\",\n",
       "     \"arguments\": \"{\\n  \\\"categories\\\": [\\\"complaint\\\", \\\"feedback\\\", \\\"pricing\\\"]\\n}\"\n",
       "   },\n",
       "   \"usage\": {\n",
       "     \"prompt_tokens\": 200,\n",
       "     \"completion_tokens\": 16,\n",
       "     \"total_tokens\": 216\n",
       "   }\n",
       " },\n",
       " {'role': 'system',\n",
       "  'content': 'You are a data entry staff going through customer messages for an ecommerce website.\\nYour responsibility is to come up with a set of categories that best fit the messages, e.g., feedback, review, complain, etc.\\nReview the text provided by user, and identify the top 3 categories.\\nCall the CategoryList function to save a list of categories that you found in lowercase.'},\n",
       " {'role': 'user',\n",
       "  'content': \"Going from the $600 Digidesign Mbox to this $15 tube made me feel like I got back at Digidesign for screwing all of us who had XP computers that they refused to support after we bought their over-priced gear for recording voice overs.<br />I could wish that the Blue Ice converter was made of heavier materials and came with a CS department that one could reach. But, for $15... well, 'nough said.\"},\n",
       " <OpenAIObject at 0x7f5912d0b6f0> JSON: {\n",
       "   \"role\": \"assistant\",\n",
       "   \"content\": null,\n",
       "   \"function_call\": {\n",
       "     \"name\": \"CategoryList\",\n",
       "     \"arguments\": \"{\\n  \\\"categories\\\": [\\\"Feedback\\\", \\\"Complaint\\\", \\\"Review\\\"]\\n}\"\n",
       "   },\n",
       "   \"usage\": {\n",
       "     \"prompt_tokens\": 223,\n",
       "     \"completion_tokens\": 16,\n",
       "     \"total_tokens\": 239\n",
       "   }\n",
       " },\n",
       " {'role': 'system',\n",
       "  'content': 'You are a data entry staff going through customer messages for an ecommerce website.\\nYour responsibility is to come up with a set of categories that best fit the messages, e.g., feedback, review, complain, etc.\\nReview the text provided by user, and identify the top 3 categories.\\nCall the CategoryList function to save a list of categories that you found in lowercase.'},\n",
       " {'role': 'user',\n",
       "  'content': 'I am a huge fan of Genisoy Soy Crisps (Deep Sea Salted flavor).<br />I love the crunch and texture of this non-greasy snack.  The flavor is subtle and very light.  No heavy salty taste or greasy lips or fingers after eating.  I also like that I can really indulge on these and not feel the regret of eating too many calories.  Soy Crisps are my fav crunchy treat.  >^,,^&lt;'},\n",
       " <OpenAIObject at 0x7f5912d0bc90> JSON: {\n",
       "   \"role\": \"assistant\",\n",
       "   \"content\": null,\n",
       "   \"function_call\": {\n",
       "     \"name\": \"CategoryList\",\n",
       "     \"arguments\": \"{\\n  \\\"categories\\\": [\\\"feedback\\\", \\\"review\\\", \\\"product\\\"]\\n}\"\n",
       "   },\n",
       "   \"usage\": {\n",
       "     \"prompt_tokens\": 232,\n",
       "     \"completion_tokens\": 15,\n",
       "     \"total_tokens\": 247\n",
       "   }\n",
       " },\n",
       " {'role': 'system',\n",
       "  'content': 'You are a data entry staff going through customer messages for an ecommerce website.\\nYour responsibility is to come up with a set of categories that best fit the messages, e.g., feedback, review, complain, etc.\\nReview the text provided by user, and identify the top 3 categories.\\nCall the CategoryList function to save a list of categories that you found in lowercase.'},\n",
       " {'role': 'user',\n",
       "  'content': 'Very smooth and I used my own filters. The smell is so inviting, I used my own measurements because it was not on the package.  I used l tblsp. per cup and I worked out fine for me, I like my coffee tasteful.'},\n",
       " <OpenAIObject at 0x7f5912d0b920> JSON: {\n",
       "   \"role\": \"assistant\",\n",
       "   \"content\": null,\n",
       "   \"function_call\": {\n",
       "     \"name\": \"CategoryList\",\n",
       "     \"arguments\": \"{\\n  \\\"categories\\\": [\\\"feedback\\\", \\\"review\\\", \\\"complaint\\\"]\\n}\"\n",
       "   },\n",
       "   \"usage\": {\n",
       "     \"prompt_tokens\": 183,\n",
       "     \"completion_tokens\": 16,\n",
       "     \"total_tokens\": 199\n",
       "   }\n",
       " },\n",
       " {'role': 'system',\n",
       "  'content': 'You are a data entry staff going through customer messages for an ecommerce website.\\nYour responsibility is to come up with a set of categories that best fit the messages, e.g., feedback, review, complain, etc.\\nReview the text provided by user, and identify the top 3 categories.\\nCall the CategoryList function to save a list of categories that you found in lowercase.'},\n",
       " {'role': 'user',\n",
       "  'content': \"When I found GF Bisquik in the stores, I was happy. When I found it on Amazon with a good price as a subscription, I was thrilled. Our daughter lives in Texas and is gluten intolerant so I mail her items on a regular basis. This has become a staple in her kitchen. Anything you can make with regular Bisquik you can adapt using this. So now she makes cookies, pancakes and biscuits to her heart's content. Taste and texture of items made with it are good.\"},\n",
       " <OpenAIObject at 0x7f5912d0b560> JSON: {\n",
       "   \"role\": \"assistant\",\n",
       "   \"content\": null,\n",
       "   \"function_call\": {\n",
       "     \"name\": \"CategoryList\",\n",
       "     \"arguments\": \"{\\n  \\\"categories\\\": [\\\"feedback\\\", \\\"review\\\", \\\"recommendation\\\"]\\n}\"\n",
       "   },\n",
       "   \"usage\": {\n",
       "     \"prompt_tokens\": 234,\n",
       "     \"completion_tokens\": 16,\n",
       "     \"total_tokens\": 250\n",
       "   }\n",
       " }]"
      ]
     },
     "execution_count": 10,
     "metadata": {},
     "output_type": "execute_result"
    }
   ],
   "source": [
    "allmsg"
   ]
  }
 ],
 "metadata": {
  "kernelspec": {
   "display_name": "py310_llm",
   "language": "python",
   "name": "python3"
  },
  "language_info": {
   "codemirror_mode": {
    "name": "ipython",
    "version": 3
   },
   "file_extension": ".py",
   "mimetype": "text/x-python",
   "name": "python",
   "nbconvert_exporter": "python",
   "pygments_lexer": "ipython3",
   "version": "3.10.12"
  },
  "orig_nbformat": 4
 },
 "nbformat": 4,
 "nbformat_minor": 2
}
