{
 "cells": [
  {
   "cell_type": "code",
   "execution_count": null,
   "metadata": {},
   "outputs": [],
   "source": [
    "import os, openai\n",
    "\n",
    "from dotenv import load_dotenv\n",
    "load_dotenv()\n",
    "openai.api_key = os.getenv(\"OPENAI_API_KEY\")"
   ]
  },
  {
   "cell_type": "code",
   "execution_count": null,
   "metadata": {},
   "outputs": [],
   "source": [
    "def prompt_survey(msg):\n",
    "    response = openai.ChatCompletion.create(\n",
    "    model=\"gpt-3.5-turbo\",\n",
    "    temperature=0.2,\n",
    "    messages=[\n",
    "            {\"role\": \"system\"\n",
    "            , \"content\": \n",
    "            \"\"\"\n",
    "            You are a survey expert going through the survey data of a user that visited a shop.\n",
    "            \"\"\"},\n",
    "            {\"role\": \"user\", \n",
    "            \"content\": \n",
    "            \"\"\"\n",
    "            In concise japanese, prepare a bulletpoint summary for this survey data masking the shop name as 店.\n",
    "            \"\"\" + msg},\n",
    "        ]\n",
    "    )\n",
    "    return response\n",
    "\n",
    "def print_output(res):\n",
    "    print(res.choices[0].message.content)\n",
    "\n",
    "def print_job_detail(res):\n",
    "    print(\"Model: {}\".format(res.model))\n",
    "    print(\"Tokens used: Prompt({}) + Completion({}) = {}\".format(res.usage.prompt_tokens\n",
    "                                                        ,res.usage.completion_tokens\n",
    "                                                        ,res.usage.total_tokens))"
   ]
  },
  {
   "cell_type": "code",
   "execution_count": null,
   "metadata": {},
   "outputs": [
    {
     "name": "stdout",
     "output_type": "stream",
     "text": [
      "- 店の知名度はテレビから知った\n",
      "- 初めて店に来た\n",
      "- ほぼ毎日店に来る\n",
      "- 今回は1人で店に来た\n",
      "- 自転車で店に来た\n",
      "- 有名なので店に来た\n",
      "- 店に対して満足している\n",
      "- 理由は特になし\n",
      "Model: gpt-3.5-turbo-0613\n",
      "Tokens used: Prompt(343) + Completion(104) = 447\n"
     ]
    }
   ],
   "source": [
    "response = prompt_survey(\"\"\"\n",
    "1, あなたは、【Questant cafe】を何から見聞きして知りましたか。,テレビ\n",
    "2,【Questant cafe】にいらっしゃったのは何回目ですか。,はじめて\n",
    "3,【Questant cafe】にどのくらいの頻度でいらっしゃいますか。,ほぼ毎日\n",
    "4, 今回、【Questant cafe】にどなたといらっしゃいましたか。すべてお知らせください。,1人で\n",
    "5,今回、主にどのような交通手段で【Questant cafe】にいらっしゃいましたか。,自転車\n",
    "6,【Questant cafe】にいらっしゃった理由をすべてお知らせください。,有名だから\n",
    "7,【Questant cafe】について、総合的にどのくらい満足していますか。,満足\n",
    "8,【Questant cafe】に対して[Q7]と回答した理由をお書きください。,なし\n",
    "\"\"\")\n",
    "print_output(response)\n",
    "print_job_detail(response)"
   ]
  },
  {
   "cell_type": "code",
   "execution_count": null,
   "metadata": {},
   "outputs": [
    {
     "name": "stdout",
     "output_type": "stream",
     "text": [
      "- 店の情報をホームページで知りました。\n",
      "- 2回目以上店に来ました。\n",
      "- 1ヶ月に1回程度店に来ます。\n",
      "- 家族と一緒に店に来ました。\n",
      "- 電車で店に来ました。\n",
      "- 広告を見て店に来ました。\n",
      "- やや満足しています。\n",
      "- 特に理由はありません。\n",
      "Model: gpt-3.5-turbo-0613\n",
      "Tokens used: Prompt(350) + Completion(108) = 458\n"
     ]
    }
   ],
   "source": [
    "response = prompt_survey(\"\"\"\n",
    "1, あなたは、【Questant cafe】を何から見聞きして知りましたか。,ホームページ\n",
    "2,【Questant cafe】にいらっしゃったのは何回目ですか。,2回目以上\n",
    "3,【Questant cafe】にどのくらいの頻度でいらっしゃいますか。,1ヶ月に1回程度\n",
    "4, 今回、【Questant cafe】にどなたといらっしゃいましたか。すべてお知らせください。,家族で\n",
    "5,今回、主にどのような交通手段で【Questant cafe】にいらっしゃいましたか。,電車\n",
    "6,【Questant cafe】にいらっしゃった理由をすべてお知らせください。,広告を見て\n",
    "7,【Questant cafe】について、総合的にどのくらい満足していますか。,やや満足\n",
    "8,【Questant cafe】に対して[Q7]と回答した理由をお書きください。,なし\n",
    "\"\"\")\n",
    "print_output(response)\n",
    "print_job_detail(response)"
   ]
  }
 ],
 "metadata": {
  "language_info": {
   "name": "python",
   "pygments_lexer": "ipython3"
  }
 },
 "nbformat": 4,
 "nbformat_minor": 2
}
