{
 "cells": [
  {
   "cell_type": "code",
   "execution_count": null,
   "metadata": {},
   "outputs": [
    {
     "data": {
      "text/plain": [
       "True"
      ]
     },
     "execution_count": 1,
     "metadata": {},
     "output_type": "execute_result"
    }
   ],
   "source": [
    "import os\n",
    "from dotenv import load_dotenv\n",
    "load_dotenv()"
   ]
  },
  {
   "cell_type": "code",
   "execution_count": null,
   "metadata": {},
   "outputs": [
    {
     "name": "stderr",
     "output_type": "stream",
     "text": [
      "/home/catsmile/miniconda3/envs/py310/lib/python3.10/site-packages/tqdm/auto.py:21: TqdmWarning: IProgress not found. Please update jupyter and ipywidgets. See https://ipywidgets.readthedocs.io/en/stable/user_install.html\n",
      "  from .autonotebook import tqdm as notebook_tqdm\n",
      "2023-08-06 23:52:05.961760: I tensorflow/core/platform/cpu_feature_guard.cc:193] This TensorFlow binary is optimized with oneAPI Deep Neural Network Library (oneDNN) to use the following CPU instructions in performance-critical operations:  AVX2 FMA\n",
      "To enable them in other operations, rebuild TensorFlow with the appropriate compiler flags.\n",
      "2023-08-06 23:52:07.038982: W tensorflow/compiler/xla/stream_executor/platform/default/dso_loader.cc:64] Could not load dynamic library 'libnvinfer.so.7'; dlerror: libnvinfer.so.7: cannot open shared object file: No such file or directory\n",
      "2023-08-06 23:52:07.039286: W tensorflow/compiler/xla/stream_executor/platform/default/dso_loader.cc:64] Could not load dynamic library 'libnvinfer_plugin.so.7'; dlerror: libnvinfer_plugin.so.7: cannot open shared object file: No such file or directory\n",
      "2023-08-06 23:52:07.039303: W tensorflow/compiler/tf2tensorrt/utils/py_utils.cc:38] TF-TRT Warning: Cannot dlopen some TensorRT libraries. If you would like to use Nvidia GPU with TensorRT, please make sure the missing libraries mentioned above are installed properly.\n"
     ]
    }
   ],
   "source": [
    "from haystack.document_stores import InMemoryDocumentStore\n",
    "from haystack.nodes import BM25Retriever, PromptModel, PromptNode, PromptTemplate, AnswerParser\n",
    "from haystack.pipelines import Pipeline\n",
    "\n",
    "from datasets import load_dataset"
   ]
  },
  {
   "cell_type": "code",
   "execution_count": null,
   "metadata": {},
   "outputs": [
    {
     "name": "stderr",
     "output_type": "stream",
     "text": [
      "Updating BM25 representation...: 100%|██████████| 151/151 [00:00<00:00, 13832.01 docs/s]\n"
     ]
    }
   ],
   "source": [
    "# A DocumentStore stores the Documents that the question answering system uses to find answers to your questions.\n",
    "document_store = InMemoryDocumentStore(use_bm25=True)\n",
    "\n",
    "# Fetch dataset and write it to document_store\n",
    "dataset = load_dataset(\"bilgeyucel/seven-wonders\", split=\"train\")\n",
    "document_store.write_documents(dataset)\n",
    "\n",
    "# initialize a BM25Retriever and make it use the InMemoryDocumentStore\n",
    "retriever = BM25Retriever(document_store=document_store, top_k=2)"
   ]
  },
  {
   "cell_type": "code",
   "execution_count": null,
   "metadata": {},
   "outputs": [],
   "source": [
    "OPENAI_API_KEY = os.getenv(\"OPENAI_API_KEY\")\n",
    "prompt_open_ai = PromptModel(model_name_or_path=\"text-davinci-003\", api_key=OPENAI_API_KEY)\n",
    "\n",
    "rag_prompt = PromptTemplate(\n",
    "    prompt=\"\"\"Synthesize a comprehensive answer from the following text for the given question.\n",
    "                             Provide a clear and concise response that summarizes the key points and information presented in the text.\n",
    "                             Your answer should be in your own words and be no longer than 50 words.\n",
    "                             \\n\\n Related text: {join(documents)} \\n\\n Question: {query} \\n\\n Answer:\"\"\",\n",
    "    # output_parser=AnswerParser(),\n",
    ")\n",
    "\n",
    "# prompt_node = PromptNode(model_name_or_path=\"google/flan-t5-large\", default_prompt_template=rag_prompt)\n",
    "\n",
    "prompt_node = PromptNode(prompt_open_ai, default_prompt_template=rag_prompt)"
   ]
  },
  {
   "cell_type": "code",
   "execution_count": null,
   "metadata": {},
   "outputs": [],
   "source": [
    "pipe = Pipeline()\n",
    "pipe.add_node(component=retriever, name=\"retriever\", inputs=[\"Query\"])\n",
    "pipe.add_node(component=prompt_node, name=\"prompt_node\", inputs=[\"retriever\"])"
   ]
  },
  {
   "cell_type": "code",
   "execution_count": null,
   "metadata": {},
   "outputs": [],
   "source": [
    "examples = [\n",
    "    \"Where is Gardens of Babylon?\",\n",
    "    \"Why did people build Great Pyramid of Giza?\",\n",
    "    \"What does Rhodes Statue look like?\",\n",
    "    \"Why did people visit the Temple of Artemis?\",\n",
    "    \"What is the importance of Colossus of Rhodes?\",\n",
    "    \"What happened to the Tomb of Mausolus?\",\n",
    "    \"How did Colossus of Rhodes collapse?\",\n",
    "]\n",
    "\n",
    "output = pipe.run(query=\"What does Rhodes Statue look like?\")"
   ]
  },
  {
   "cell_type": "code",
   "execution_count": null,
   "metadata": {},
   "outputs": [
    {
     "data": {
      "text/plain": [
       "{'results': [\"Scholars don't know exactly what the statue looked like, but they do have a good idea of what the head and face looked like. It is believed to have had curly hair with evenly spaced spikes of bronze or silver flame radiating, similar to images found on contemporary Rhodian coins.\"],\n",
       " 'invocation_context': {'query': 'What does Rhodes Statue look like?',\n",
       "  'documents': [<Document: {'content': \"Silver tetradrachm of Rhodes showing Helios and a rose (205–190 BC, 13.48 g)\\nWhile scholars do not know what the statue looked like, they do have a good idea of what the head and face looked like, as it was of a standard rendering at the time. The head would have had curly hair with evenly spaced spikes of bronze or silver flame radiating, similar to the images found on contemporary Rhodian coins.[29]\\n\\nPossible locations[edit]\\nThe old harbour entrance from inner embankment. The Fortress of St Nicholas is on right\\nWhile scholars generally agree that anecdotal depictions of the Colossus straddling the harbour's entry point have no historic or scientific basis,[29] the monument's actual location remains a matter of debate. As mentioned above the statue is thought locally to have stood where two pillars now stand at the Mandraki port entrance.\\nThe floor of the Fortress of St Nicholas, near the harbour entrance, contains a circle of sandstone blocks of unknown origin or purpose. \", 'content_type': 'text', 'score': 0.8095937858735425, 'meta': {'url': 'https://en.wikipedia.org/wiki/Colossus_of_Rhodes', '_split_id': 14}, 'id_hash_keys': ['content'], 'embedding': None, 'id': '4839aced58837e824cd75feb7836a2d9'}>,\n",
       "   <Document: {'content': 'Within it, too, are to be seen large masses of rock, by the weight of which the artist steadied it while erecting it.[22][23]\\nDestruction of the remains[edit]\\nThe ultimate fate of the remains of the statue is uncertain. Rhodes has two serious earthquakes per century, owing to its location on the seismically unstable Hellenic Arc. Pausanias tells us, writing ca. 174, how the city was so devastated by an earthquake that the Sibyl oracle foretelling its destruction was considered fulfilled.[24] This means the statue could not have survived for long if it was ever repaired. By the 4th century Rhodes was Christianized, meaning any further maintenance or rebuilding, if there ever was any before, on an ancient pagan statue is unlikely. The metal would have likely been used for coins and maybe also tools by the time of the Arab wars, especially during earlier conflicts such as the Sassanian wars.[9]\\nThe onset of Islamic naval incursions against the Byzantine empire gave rise to a dramatic account of what became of the Colossus. ', 'content_type': 'text', 'score': 0.7445304584682036, 'meta': {'url': 'https://en.wikipedia.org/wiki/Colossus_of_Rhodes', '_split_id': 9}, 'id_hash_keys': ['content'], 'embedding': None, 'id': '7fc4286d8230b0749b219291c51a1426'}>],\n",
       "  'results': [\"Scholars don't know exactly what the statue looked like, but they do have a good idea of what the head and face looked like. It is believed to have had curly hair with evenly spaced spikes of bronze or silver flame radiating, similar to images found on contemporary Rhodian coins.\"],\n",
       "  'prompts': [\"Synthesize a comprehensive answer from the following text for the given question.\\n                             Provide a clear and concise response that summarizes the key points and information presented in the text.\\n                             Your answer should be in your own words and be no longer than 50 words.\\n                             \\n\\n Related text: Silver tetradrachm of Rhodes showing Helios and a rose (205–190 BC, 13.48 g)\\nWhile scholars do not know what the statue looked like, they do have a good idea of what the head and face looked like, as it was of a standard rendering at the time. The head would have had curly hair with evenly spaced spikes of bronze or silver flame radiating, similar to the images found on contemporary Rhodian coins.[29]\\n\\nPossible locations[edit]\\nThe old harbour entrance from inner embankment. The Fortress of St Nicholas is on right\\nWhile scholars generally agree that anecdotal depictions of the Colossus straddling the harbour's entry point have no historic or scientific basis,[29] the monument's actual location remains a matter of debate. As mentioned above the statue is thought locally to have stood where two pillars now stand at the Mandraki port entrance.\\nThe floor of the Fortress of St Nicholas, near the harbour entrance, contains a circle of sandstone blocks of unknown origin or purpose.  Within it, too, are to be seen large masses of rock, by the weight of which the artist steadied it while erecting it.[22][23]\\nDestruction of the remains[edit]\\nThe ultimate fate of the remains of the statue is uncertain. Rhodes has two serious earthquakes per century, owing to its location on the seismically unstable Hellenic Arc. Pausanias tells us, writing ca. 174, how the city was so devastated by an earthquake that the Sibyl oracle foretelling its destruction was considered fulfilled.[24] This means the statue could not have survived for long if it was ever repaired. By the 4th century Rhodes was Christianized, meaning any further maintenance or rebuilding, if there ever was any before, on an ancient pagan statue is unlikely. The metal would have likely been used for coins and maybe also tools by the time of the Arab wars, especially during earlier conflicts such as the Sassanian wars.[9]\\nThe onset of Islamic naval incursions against the Byzantine empire gave rise to a dramatic account of what became of the Colossus.  \\n\\n Question: What does Rhodes Statue look like? \\n\\n Answer:\"]},\n",
       " 'documents': [<Document: {'content': \"Silver tetradrachm of Rhodes showing Helios and a rose (205–190 BC, 13.48 g)\\nWhile scholars do not know what the statue looked like, they do have a good idea of what the head and face looked like, as it was of a standard rendering at the time. The head would have had curly hair with evenly spaced spikes of bronze or silver flame radiating, similar to the images found on contemporary Rhodian coins.[29]\\n\\nPossible locations[edit]\\nThe old harbour entrance from inner embankment. The Fortress of St Nicholas is on right\\nWhile scholars generally agree that anecdotal depictions of the Colossus straddling the harbour's entry point have no historic or scientific basis,[29] the monument's actual location remains a matter of debate. As mentioned above the statue is thought locally to have stood where two pillars now stand at the Mandraki port entrance.\\nThe floor of the Fortress of St Nicholas, near the harbour entrance, contains a circle of sandstone blocks of unknown origin or purpose. \", 'content_type': 'text', 'score': 0.8095937858735425, 'meta': {'url': 'https://en.wikipedia.org/wiki/Colossus_of_Rhodes', '_split_id': 14}, 'id_hash_keys': ['content'], 'embedding': None, 'id': '4839aced58837e824cd75feb7836a2d9'}>,\n",
       "  <Document: {'content': 'Within it, too, are to be seen large masses of rock, by the weight of which the artist steadied it while erecting it.[22][23]\\nDestruction of the remains[edit]\\nThe ultimate fate of the remains of the statue is uncertain. Rhodes has two serious earthquakes per century, owing to its location on the seismically unstable Hellenic Arc. Pausanias tells us, writing ca. 174, how the city was so devastated by an earthquake that the Sibyl oracle foretelling its destruction was considered fulfilled.[24] This means the statue could not have survived for long if it was ever repaired. By the 4th century Rhodes was Christianized, meaning any further maintenance or rebuilding, if there ever was any before, on an ancient pagan statue is unlikely. The metal would have likely been used for coins and maybe also tools by the time of the Arab wars, especially during earlier conflicts such as the Sassanian wars.[9]\\nThe onset of Islamic naval incursions against the Byzantine empire gave rise to a dramatic account of what became of the Colossus. ', 'content_type': 'text', 'score': 0.7445304584682036, 'meta': {'url': 'https://en.wikipedia.org/wiki/Colossus_of_Rhodes', '_split_id': 9}, 'id_hash_keys': ['content'], 'embedding': None, 'id': '7fc4286d8230b0749b219291c51a1426'}>],\n",
       " 'root_node': 'Query',\n",
       " 'params': {},\n",
       " 'query': 'What does Rhodes Statue look like?',\n",
       " 'node_id': 'prompt_node'}"
      ]
     },
     "execution_count": 7,
     "metadata": {},
     "output_type": "execute_result"
    }
   ],
   "source": [
    "output"
   ]
  }
 ],
 "metadata": {
  "language_info": {
   "name": "python",
   "pygments_lexer": "ipython3"
  }
 },
 "nbformat": 4,
 "nbformat_minor": 2
}
